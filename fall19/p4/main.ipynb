{
 "cells": [
  {
   "cell_type": "markdown",
   "metadata": {},
   "source": [
    "# Don't edit this notebook, and don't hand it in\n",
    "\n",
    "* All your work should be in p4.py\n",
    "* It is still useful to do a Restart Kernal & Run All here to see what your functions are returning"
   ]
  },
  {
   "cell_type": "code",
   "execution_count": 1,
   "metadata": {},
   "outputs": [],
   "source": [
    "from p4done import predict1, predict2, predict3, column_avg"
   ]
  },
  {
   "cell_type": "markdown",
   "metadata": {},
   "source": [
    "# Test Tree Depth 1"
   ]
  },
  {
   "cell_type": "code",
   "execution_count": 2,
   "metadata": {},
   "outputs": [
    {
     "data": {
      "text/plain": [
       "True"
      ]
     },
     "execution_count": 2,
     "metadata": {},
     "output_type": "execute_result"
    }
   ],
   "source": [
    "#q1\n",
    "predict1(glucose=128, bmi=25, age=40)"
   ]
  },
  {
   "cell_type": "code",
   "execution_count": 3,
   "metadata": {},
   "outputs": [
    {
     "data": {
      "text/plain": [
       "False"
      ]
     },
     "execution_count": 3,
     "metadata": {},
     "output_type": "execute_result"
    }
   ],
   "source": [
    "#q2\n",
    "predict1(glucose=127, bmi=25, age=80)"
   ]
  },
  {
   "cell_type": "code",
   "execution_count": 4,
   "metadata": {},
   "outputs": [
    {
     "data": {
      "text/plain": [
       "False"
      ]
     },
     "execution_count": 4,
     "metadata": {},
     "output_type": "execute_result"
    }
   ],
   "source": [
    "#q3\n",
    "predict1(glucose=127.5, bmi=25, age=20)"
   ]
  },
  {
   "cell_type": "markdown",
   "metadata": {},
   "source": [
    "# Test Tree Depth 2"
   ]
  },
  {
   "cell_type": "code",
   "execution_count": 5,
   "metadata": {},
   "outputs": [
    {
     "data": {
      "text/plain": [
       "False"
      ]
     },
     "execution_count": 5,
     "metadata": {},
     "output_type": "execute_result"
    }
   ],
   "source": [
    "#q4\n",
    "\n",
    "# note: the 2nd tree made a different prediction than the 1st tree, for this same patient\n",
    "# because the 2nd tree considers BMI, but the first tree doesn't.\n",
    "# (compare the answer of q4 to q1 to see this)\n",
    "\n",
    "predict2(glucose=128, bmi=25, age=40)"
   ]
  },
  {
   "cell_type": "code",
   "execution_count": 6,
   "metadata": {},
   "outputs": [
    {
     "data": {
      "text/plain": [
       "True"
      ]
     },
     "execution_count": 6,
     "metadata": {},
     "output_type": "execute_result"
    }
   ],
   "source": [
    "#q5\n",
    "predict2(glucose=128, bmi=30, age=40)"
   ]
  },
  {
   "cell_type": "code",
   "execution_count": 7,
   "metadata": {},
   "outputs": [
    {
     "data": {
      "text/plain": [
       "False"
      ]
     },
     "execution_count": 7,
     "metadata": {},
     "output_type": "execute_result"
    }
   ],
   "source": [
    "#q6\n",
    "predict2(glucose=127.6, bmi=29.95, age=40)"
   ]
  },
  {
   "cell_type": "code",
   "execution_count": 8,
   "metadata": {},
   "outputs": [
    {
     "data": {
      "text/plain": [
       "False"
      ]
     },
     "execution_count": 8,
     "metadata": {},
     "output_type": "execute_result"
    }
   ],
   "source": [
    "#q7\n",
    "predict2(glucose=120, bmi=25, age=20)"
   ]
  },
  {
   "cell_type": "code",
   "execution_count": 9,
   "metadata": {},
   "outputs": [
    {
     "data": {
      "text/plain": [
       "False"
      ]
     },
     "execution_count": 9,
     "metadata": {},
     "output_type": "execute_result"
    }
   ],
   "source": [
    "#q8\n",
    "predict2(glucose=127.5, bmi=25, age=20)"
   ]
  },
  {
   "cell_type": "markdown",
   "metadata": {},
   "source": [
    "# Test Tree Depth 3"
   ]
  },
  {
   "cell_type": "code",
   "execution_count": 10,
   "metadata": {},
   "outputs": [],
   "source": [
    "#q9\n",
    "#predict2(pregnancies=1, glucose=130, bp=72, insulin=94, bmi=29.4, age=50, , pedigree=0.627)"
   ]
  },
  {
   "cell_type": "code",
   "execution_count": 11,
   "metadata": {},
   "outputs": [],
   "source": [
    "#q10\n",
    "# For given values of the features [pregnancies=5, glucose=136, bp=90, insulin=120, age=42, pedigree=0.51]\n",
    "# give an example of bmi value such that predict2 returns 1 [Diabetic]\n",
    "\n",
    "# TIP: you can verify your answer by calling predict2() function"
   ]
  },
  {
   "cell_type": "code",
   "execution_count": 12,
   "metadata": {},
   "outputs": [],
   "source": [
    "#q11\n",
    "# For given values of the features [pregnancies=5, glucose=136, bp=90, insulin=120, age=42, pedigree=0.51]\n",
    "# give an example of bmi value such that predict2 returns 0 [Non Diabetic]\n"
   ]
  },
  {
   "cell_type": "code",
   "execution_count": 13,
   "metadata": {},
   "outputs": [],
   "source": [
    "#q12\n",
    "#predict3(pregnancies=0, glucose=148, bp=72, insulin=87, bmi=28.15, age=25, pedigree=0.627)"
   ]
  },
  {
   "cell_type": "code",
   "execution_count": 14,
   "metadata": {},
   "outputs": [],
   "source": [
    "#q13\n",
    "#predict3(pregnancies=0, glucose=148, bp=72, insulin=87, bmi=28.15, age=26.5, pedigree=0.627)"
   ]
  },
  {
   "cell_type": "code",
   "execution_count": 15,
   "metadata": {},
   "outputs": [],
   "source": [
    "#q14\n",
    "#predict3(pregnancies=0, glucose=148, bp=72, insulin=87, bmi=28.15, age=28, pedigree=0.627)"
   ]
  },
  {
   "cell_type": "code",
   "execution_count": 16,
   "metadata": {},
   "outputs": [],
   "source": [
    "#q15\n",
    "# For given values of the features [pregnancies=2, glucose=136, bp=108, insulin=118, bmi=31.4, pedigree=0.41]\n",
    "# give an example of age value such that predict3 returns 1 [Diabetic]\n"
   ]
  },
  {
   "cell_type": "code",
   "execution_count": 17,
   "metadata": {},
   "outputs": [],
   "source": [
    "#q16\n",
    "# For given values of the features [pregnancies=2, glucose=136, bp=108, insulin=118, bmi=31.4, pedigree=0.41]\n",
    "# give an example of age value such that predict3 returns 0 [Non Diabetic]\n"
   ]
  }
 ],
 "metadata": {
  "kernelspec": {
   "display_name": "Python 3",
   "language": "python",
   "name": "python3"
  },
  "language_info": {
   "codemirror_mode": {
    "name": "ipython",
    "version": 3
   },
   "file_extension": ".py",
   "mimetype": "text/x-python",
   "name": "python",
   "nbconvert_exporter": "python",
   "pygments_lexer": "ipython3",
   "version": "3.7.2"
  }
 },
 "nbformat": 4,
 "nbformat_minor": 2
}
