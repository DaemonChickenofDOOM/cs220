{
 "cells": [
  {
   "cell_type": "code",
   "execution_count": 1,
   "metadata": {
    "autoscroll": false,
    "collapsed": false,
    "ein.hycell": false,
    "ein.tags": "worksheet-0",
    "slideshow": {
     "slide_type": "-"
    }
   },
   "outputs": [],
   "source": [
    "import csv\n",
    "import statistics\n",
    "from csv import *\n",
    "from statistics import *\n",
    "\n",
    "def process_csv(filename):\n",
    "    exampleFile = open(filename, encoding=\"utf-8\")\n",
    "    exampleReader = csv.reader(exampleFile)\n",
    "    exampleData = list(exampleReader)\n",
    "    exampleFile.close()\n",
    "    return exampleData\n",
    "\n",
    "csv_rows = process_csv(\"wine.csv\")\n",
    "csv_header = csv_rows[0]\n",
    "csv_data = csv_rows[1:]\n",
    "k =range(len(csv_data)) # this was getting to be a bit of a mouthful\\\n",
    "    # Technically overhoots by one but it compiles, so...\n",
    "\n",
    "\n",
    "def search(string,field = 3, query = 5):\n",
    "    # field : output array category\n",
    "    # query : which field to look for string in.\n",
    "    results = []\n",
    "    for i in k:\n",
    "        desc = csv_data[i][query].upper()\n",
    "        if (string.upper() in desc) and (csv_data[i][field] not in results):\n",
    "            results.append(csv_data[i][field])\n",
    "    return results\n",
    "def ppd(brand):\n",
    "    ratio = []\n",
    "    #validation\n",
    "    for i in k:\n",
    "        if csv_data[i][4] != brand or csv_data[i][1] == '' or csv_data[i][2] == '':\n",
    "            continue\n",
    "        ratio.append(float(csv_data[i][1])/float(csv_data[i][2]))\n",
    "    if len(ratio) == 0:\n",
    "        return -1\n",
    "    return mean(ratio)\n",
    "def maxNatlPPD(country):\n",
    "    maxppdList = []\n",
    "    maxppd = 0;\n",
    "    for i in k:\n",
    "        if csv_data[i][0].upper() != country.upper() or ppd(csv_data[i][4]) < maxppd:\n",
    "            continue\n",
    "        maxppd = ppd(csv_data[i][4])\n",
    "    for i in k:\n",
    "        if csv_data[i][0].upper() == country.upper() and ppd(csv_data[i][4]) == maxppd \\\n",
    "           and csv_data[i][4] not in maxppdList:\n",
    "            maxppdList.append(csv_data[i][4])\n",
    "    return maxppdList\n",
    "def variety(brand):\n",
    "    varieties = []\n",
    "    for i in k:\n",
    "        if csv_data[i][4].upper() != brand.upper():\n",
    "            continue\n",
    "        elif csv_data[i][3] not in varieties \\\n",
    "             and csv_data[i][3] != '':\n",
    "            varieties.append(csv_data[i][3])\n",
    "    return varieties \n",
    "def minNatlPPD(country):\n",
    "    minppdList = []\n",
    "    minppd = 9000;\n",
    "    for i in k:\n",
    "        if csv_data[i][0].upper() != country.upper() or ppd(csv_data[i][4]) >= minppd \\\n",
    "           or ppd(csv_data[i][4]) == -1:\n",
    "            continue\n",
    "        minppd = ppd(csv_data[i][4])\n",
    "    for i in k:\n",
    "        if csv_data[i][0].upper() == country.upper() and ppd(csv_data[i][4]) == minppd \\\n",
    "           and csv_data[i][4] not in minppdList:\n",
    "            minppdList.append(csv_data[i][4])\n",
    "    return minppdList   "
   ]
  },
  {
   "cell_type": "code",
   "execution_count": 2,
   "metadata": {
    "autoscroll": false,
    "collapsed": false,
    "ein.hycell": false,
    "ein.tags": "worksheet-0",
    "slideshow": {
     "slide_type": "-"
    }
   },
   "outputs": [
    {
     "data": {
      "text/plain": [
       "['US',\n",
       " 'Spain',\n",
       " 'France',\n",
       " 'Italy',\n",
       " 'New Zealand',\n",
       " 'Bulgaria',\n",
       " 'Argentina',\n",
       " 'Australia',\n",
       " 'Portugal',\n",
       " 'Israel',\n",
       " 'South Africa',\n",
       " 'Greece',\n",
       " 'Chile',\n",
       " 'Morocco',\n",
       " 'Romania',\n",
       " 'Germany',\n",
       " 'Canada',\n",
       " 'Moldova',\n",
       " 'Hungary',\n",
       " 'Austria',\n",
       " 'Croatia',\n",
       " 'Slovenia',\n",
       " 'India']"
      ]
     },
     "execution_count": 2,
     "metadata": {},
     "output_type": "execute_result"
    }
   ],
   "source": [
    "#q1\n",
    "countryList = []\n",
    "for i in k:\n",
    "    if csv_data[i][0] not in countryList and csv_data[i][0] != '':\n",
    "        countryList.append(csv_data[i][0])\n",
    "countryList"
   ]
  },
  {
   "cell_type": "code",
   "execution_count": 3,
   "metadata": {
    "autoscroll": false,
    "collapsed": false,
    "ein.hycell": false,
    "ein.tags": "worksheet-0",
    "slideshow": {
     "slide_type": "-"
    }
   },
   "outputs": [
    {
     "data": {
      "text/plain": [
       "39.40787623066104"
      ]
     },
     "execution_count": 3,
     "metadata": {},
     "output_type": "execute_result"
    }
   ],
   "source": [
    "#q2\n",
    "priceList = []\n",
    "for i in k:\n",
    "    if csv_data[i][2] != '':\n",
    "        priceList.append(float(csv_data[i][2]))\n",
    "mean(priceList)"
   ]
  },
  {
   "cell_type": "code",
   "execution_count": 4,
   "metadata": {
    "autoscroll": false,
    "collapsed": false,
    "ein.hycell": false,
    "ein.tags": "worksheet-0",
    "slideshow": {
     "slide_type": "-"
    }
   },
   "outputs": [
    {
     "data": {
      "text/plain": [
       "['Kumeu River', 'Spy Valley', 'Felton Road']"
      ]
     },
     "execution_count": 4,
     "metadata": {},
     "output_type": "execute_result"
    }
   ],
   "source": [
    "#q3\n",
    "NZWineList = []\n",
    "for i in k:\n",
    "    if csv_data[i][0] != \"New Zealand\":\n",
    "        continue\n",
    "    elif csv_data[i][4] not in NZWineList:\n",
    "        NZWineList.append(csv_data[i][4])\n",
    "NZWineList"
   ]
  },
  {
   "cell_type": "code",
   "execution_count": 5,
   "metadata": {
    "autoscroll": false,
    "collapsed": false,
    "ein.hycell": false,
    "ein.tags": "worksheet-0",
    "slideshow": {
     "slide_type": "-"
    }
   },
   "outputs": [
    {
     "data": {
      "text/plain": [
       "['Pinot Noir',\n",
       " 'Cabernet Sauvignon',\n",
       " 'Zinfandel',\n",
       " 'Lemberger',\n",
       " 'Aglianico',\n",
       " 'Bordeaux-style Red Blend',\n",
       " 'Cabernet Franc',\n",
       " 'Sangiovese',\n",
       " 'Merlot',\n",
       " 'Nebbiolo',\n",
       " 'Blaufränkisch',\n",
       " 'Meritage',\n",
       " 'Rosé']"
      ]
     },
     "execution_count": 5,
     "metadata": {},
     "output_type": "execute_result"
    }
   ],
   "source": [
    "#q4\n",
    "# cranberry = []\n",
    "# for i in range(len(csv_data)):\n",
    "#     desc = csv_data[i][5].upper()\n",
    "#     if (\"CRANBERRY\" in desc) and (csv_data[i][3] not in cranberry):\n",
    "#         cranberry.append(csv_data[i][3])\n",
    "# cranberry\n",
    "search(\"cranberry\")"
   ]
  },
  {
   "cell_type": "code",
   "execution_count": 6,
   "metadata": {
    "autoscroll": false,
    "collapsed": false,
    "ein.hycell": false,
    "ein.tags": "worksheet-0",
    "slideshow": {
     "slide_type": "-"
    }
   },
   "outputs": [
    {
     "data": {
      "text/plain": [
       "['Pinot Grigio', 'Chardonnay', 'Sparkling Blend']"
      ]
     },
     "execution_count": 6,
     "metadata": {},
     "output_type": "execute_result"
    }
   ],
   "source": [
    "#q5\n",
    "# soda = []\n",
    "# for i in range(len(csv_data)):\n",
    "#     desc = csv_data[i][5]\n",
    "#     if (\"lemon-lime soda\" in desc) and (csv_data[i][3] not in soda):\n",
    "#         soda.append(csv_data[i][3])\n",
    "# soda\n",
    "search(\"lemon-lime soda\")        "
   ]
  },
  {
   "cell_type": "code",
   "execution_count": 7,
   "metadata": {
    "autoscroll": false,
    "collapsed": false,
    "ein.hycell": false,
    "ein.tags": "worksheet-0",
    "slideshow": {
     "slide_type": "-"
    }
   },
   "outputs": [
    {
     "data": {
      "text/plain": [
       "['Tinta de Toro', 'Cabernet Sauvignon', 'Tempranillo', 'Red Blend', 'Castelão']"
      ]
     },
     "execution_count": 7,
     "metadata": {},
     "output_type": "execute_result"
    }
   ],
   "source": [
    "#q6\n",
    "# blackfruit=[]\n",
    "# for i in range(len(csv_data)):\n",
    "#     desc = csv_data[i][5].upper()\n",
    "#     if (\"BLACK-FRUIT\" in desc) and (csv_data[i][3] not in blackfruit):\n",
    "#         blackfruit.append(csv_data[i][3])\n",
    "# blackfruit\n",
    "search(\"black-fruit\")"
   ]
  },
  {
   "cell_type": "code",
   "execution_count": 8,
   "metadata": {
    "autoscroll": false,
    "collapsed": false,
    "ein.hycell": false,
    "ein.tags": "worksheet-0",
    "slideshow": {
     "slide_type": "-"
    }
   },
   "outputs": [
    {
     "data": {
      "text/plain": [
       "123"
      ]
     },
     "execution_count": 8,
     "metadata": {},
     "output_type": "execute_result"
    }
   ],
   "source": [
    "#q8\n",
    "# can't use the search() function because it needs to match exactly.\n",
    "noir = []\n",
    "for i in k:\n",
    "    if \"Pinot Noir\" == csv_data[i][3] and csv_data[i][4] not in noir:\n",
    "        noir.append(csv_data[i][4])\n",
    "len(noir)"
   ]
  },
  {
   "cell_type": "code",
   "execution_count": 9,
   "metadata": {
    "autoscroll": false,
    "collapsed": false,
    "ein.hycell": false,
    "ein.tags": "worksheet-0",
    "slideshow": {
     "slide_type": "-"
    }
   },
   "outputs": [
    {
     "data": {
      "text/plain": [
       "['Tinta de Toro']"
      ]
     },
     "execution_count": 9,
     "metadata": {},
     "output_type": "execute_result"
    }
   ],
   "source": [
    "#q9\n",
    "maxRating = 0;\n",
    "topSpain = []\n",
    "# finds maximum rating\n",
    "for i in k:\n",
    "    if csv_data[i][0] != \"Spain\" or int(csv_data[i][1]) < maxRating:\n",
    "        continue\n",
    "    maxRating = int(csv_data[i][1])\n",
    "\n",
    "for i in k:\n",
    "    if csv_data[i][0] != \"Spain\" or int(csv_data[i][1]) != maxRating:\n",
    "        continue\n",
    "    topSpain.append(csv_data[i][3])\n",
    "topSpain"
   ]
  },
  {
   "cell_type": "code",
   "execution_count": 10,
   "metadata": {
    "autoscroll": false,
    "collapsed": false,
    "ein.hycell": false,
    "ein.tags": "worksheet-0",
    "slideshow": {
     "slide_type": "-"
    }
   },
   "outputs": [
    {
     "data": {
      "text/plain": [
       "['Gaja']"
      ]
     },
     "execution_count": 10,
     "metadata": {},
     "output_type": "execute_result"
    }
   ],
   "source": [
    "#q10\n",
    "maxPrice = 0;\n",
    "topItaly = []\n",
    "# finds maximum rating\n",
    "for i in k:\n",
    "    if csv_data[i][2] == '':\n",
    "        continue\n",
    "    elif csv_data[i][0] != \"Italy\" or float(csv_data[i][2]) < maxPrice:\n",
    "        continue\n",
    "    maxPrice = float(csv_data[i][2])\n",
    "\n",
    "for i in k:\n",
    "    if csv_data[i][2] == '' or csv_data[i][0] != \"Italy\" or float(csv_data[i][2]) != maxPrice:\n",
    "        continue\n",
    "    topItaly.append(csv_data[i][4])\n",
    "topItaly"
   ]
  },
  {
   "cell_type": "code",
   "execution_count": 11,
   "metadata": {
    "autoscroll": false,
    "collapsed": false,
    "ein.hycell": false,
    "ein.tags": "worksheet-0",
    "slideshow": {
     "slide_type": "-"
    }
   },
   "outputs": [
    {
     "data": {
      "text/plain": [
       "['country', 'points', 'price', 'variety', 'winery', 'description']"
      ]
     },
     "execution_count": 11,
     "metadata": {},
     "output_type": "execute_result"
    }
   ],
   "source": [
    "csv_header"
   ]
  },
  {
   "cell_type": "code",
   "execution_count": 12,
   "metadata": {
    "autoscroll": false,
    "collapsed": false,
    "ein.hycell": false,
    "ein.tags": "worksheet-0",
    "slideshow": {
     "slide_type": "-"
    }
   },
   "outputs": [
    {
     "data": {
      "text/plain": [
       "1.98628003003003"
      ]
     },
     "execution_count": 12,
     "metadata": {},
     "output_type": "execute_result"
    }
   ],
   "source": [
    "#q11\n",
    "ppd(\"Patricia Green Cellars\")"
   ]
  },
  {
   "cell_type": "code",
   "execution_count": 13,
   "metadata": {
    "autoscroll": false,
    "collapsed": false,
    "ein.hycell": false,
    "ein.tags": "worksheet-0",
    "slideshow": {
     "slide_type": "-"
    }
   },
   "outputs": [
    {
     "data": {
      "text/plain": [
       "0.2923076923076923"
      ]
     },
     "execution_count": 13,
     "metadata": {},
     "output_type": "execute_result"
    }
   ],
   "source": [
    "#q12\n",
    "ppd(\"Hall\")"
   ]
  },
  {
   "cell_type": "code",
   "execution_count": 14,
   "metadata": {
    "autoscroll": false,
    "collapsed": false,
    "ein.hycell": false,
    "ein.tags": "worksheet-0",
    "slideshow": {
     "slide_type": "-"
    }
   },
   "outputs": [
    {
     "data": {
      "text/plain": [
       "['Grand Pacific']"
      ]
     },
     "execution_count": 14,
     "metadata": {},
     "output_type": "execute_result"
    }
   ],
   "source": [
    "#q13\n",
    "maxNatlPPD('US')    "
   ]
  },
  {
   "cell_type": "code",
   "execution_count": 15,
   "metadata": {
    "autoscroll": false,
    "collapsed": false,
    "ein.hycell": false,
    "ein.tags": "worksheet-0",
    "slideshow": {
     "slide_type": "-"
    }
   },
   "outputs": [
    {
     "data": {
      "text/plain": [
       "['Long Neck', 'Essay', 'Robertson Winery', 'KWV']"
      ]
     },
     "execution_count": 15,
     "metadata": {},
     "output_type": "execute_result"
    }
   ],
   "source": [
    "#q14\n",
    "maxNatlPPD('South Africa')"
   ]
  },
  {
   "cell_type": "code",
   "execution_count": 16,
   "metadata": {
    "autoscroll": false,
    "collapsed": false,
    "ein.hycell": false,
    "ein.tags": "worksheet-0",
    "slideshow": {
     "slide_type": "-"
    }
   },
   "outputs": [
    {
     "data": {
      "text/plain": [
       "['Bodega Las Cañitas']"
      ]
     },
     "execution_count": 16,
     "metadata": {},
     "output_type": "execute_result"
    }
   ],
   "source": [
    "#q15\n",
    "minNatlPPD('Argentina')"
   ]
  },
  {
   "cell_type": "code",
   "execution_count": 17,
   "metadata": {
    "autoscroll": false,
    "collapsed": false,
    "ein.hycell": false,
    "ein.tags": "worksheet-0",
    "slideshow": {
     "slide_type": "-"
    }
   },
   "outputs": [
    {
     "data": {
      "text/plain": [
       "['Cabernet Franc']"
      ]
     },
     "execution_count": 17,
     "metadata": {},
     "output_type": "execute_result"
    }
   ],
   "source": [
    "#q16\n",
    "variety(\"Ironstone\")"
   ]
  },
  {
   "cell_type": "code",
   "execution_count": 18,
   "metadata": {
    "autoscroll": false,
    "collapsed": false,
    "ein.hycell": false,
    "ein.tags": "worksheet-0",
    "slideshow": {
     "slide_type": "-"
    }
   },
   "outputs": [
    {
     "data": {
      "text/plain": [
       "['Portuguese White', 'Portuguese Rosé', 'Portuguese Red']"
      ]
     },
     "execution_count": 18,
     "metadata": {},
     "output_type": "execute_result"
    }
   ],
   "source": [
    "#q17\n",
    "variety(\"Quinta Nova de Nossa Senhora do Carmo\")"
   ]
  },
  {
   "cell_type": "code",
   "execution_count": 19,
   "metadata": {
    "autoscroll": false,
    "collapsed": false,
    "ein.hycell": false,
    "ein.tags": "worksheet-0",
    "slideshow": {
     "slide_type": "-"
    }
   },
   "outputs": [
    {
     "data": {
      "text/plain": [
       "7.6923076923076925"
      ]
     },
     "execution_count": 19,
     "metadata": {},
     "output_type": "execute_result"
    }
   ],
   "source": [
    "#q18\n",
    "both = []\n",
    "for i in search(\"cranberry\"):\n",
    "    if i in search(\"black-fruit\"):\n",
    "        both.append(i)\n",
    "len(both)/len(search(\"cranberry\")) * 100"
   ]
  },
  {
   "cell_type": "code",
   "execution_count": 20,
   "metadata": {
    "autoscroll": false,
    "collapsed": false,
    "ein.hycell": false,
    "ein.tags": "worksheet-0",
    "slideshow": {
     "slide_type": "-"
    }
   },
   "outputs": [
    {
     "data": {
      "text/plain": [
       "130.0"
      ]
     },
     "execution_count": 20,
     "metadata": {},
     "output_type": "execute_result"
    }
   ],
   "source": [
    "#q19\n",
    "maxPRT = 0\n",
    "for i in k:\n",
    "    if csv_data[i][2] == '' or csv_data[i][0].upper() != \"PORTUGAL\" \\\n",
    "       or float(csv_data[i][2]) < maxPRT:\n",
    "        continue\n",
    "    maxPRT = float(csv_data[i][2])\n",
    "maxPRT"
   ]
  },
  {
   "cell_type": "code",
   "execution_count": 21,
   "metadata": {
    "autoscroll": false,
    "collapsed": false,
    "ein.hycell": false,
    "ein.tags": "worksheet-0",
    "slideshow": {
     "slide_type": "-"
    }
   },
   "outputs": [
    {
     "data": {
      "text/plain": [
       "281.0"
      ]
     },
     "execution_count": 21,
     "metadata": {},
     "output_type": "execute_result"
    }
   ],
   "source": [
    "#q20\n",
    "minPRT = 0\n",
    "for i in k:\n",
    "    if csv_data[i][2] == '' or csv_data[i][0].upper() != \"PORTUGAL\" \\\n",
    "       or (float(csv_data[i][2]) > minPRT and minPRT != 0):\n",
    "        continue\n",
    "    minPRT = float(csv_data[i][2])\n",
    "minPRT * 3 + maxPRT * 2"
   ]
  },
  {
   "cell_type": "code",
   "execution_count": null,
   "metadata": {
    "autoscroll": false,
    "collapsed": false,
    "ein.hycell": false,
    "ein.tags": "worksheet-0",
    "slideshow": {
     "slide_type": "-"
    }
   },
   "outputs": [],
   "source": []
  }
 ],
 "metadata": {
  "kernelspec": {
   "argv": [
    "/usr/bin/python3",
    "-m",
    "ipykernel_launcher",
    "-f",
    "{connection_file}"
   ],
   "display_name": "Python 3",
   "env": null,
   "interrupt_mode": "signal",
   "language": "python",
   "metadata": null,
   "name": "python3"
  },
  "language_info": {
   "codemirror_mode": {
    "name": "ipython",
    "version": 3
   },
   "file_extension": ".py",
   "mimetype": "text/x-python",
   "name": "python",
   "nbconvert_exporter": "python",
   "pygments_lexer": "ipython3",
   "version": "3.7.3"
  },
  "name": "main.ipynb"
 },
 "nbformat": 4,
 "nbformat_minor": 2
}
