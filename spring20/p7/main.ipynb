{
 "cells": [
  {
   "cell_type": "code",
   "execution_count": 64,
   "metadata": {
    "autoscroll": false,
    "collapsed": false,
    "ein.hycell": false,
    "ein.tags": "worksheet-0",
    "slideshow": {
     "slide_type": "-"
    }
   },
   "outputs": [],
   "source": [
    "# project: p7\n",
    "# submitter: ryang229\n",
    "# partner: none"
   ]
  },
  {
   "cell_type": "code",
   "execution_count": 5,
   "metadata": {
    "autoscroll": false,
    "collapsed": false,
    "ein.hycell": false,
    "ein.tags": "worksheet-0",
    "slideshow": {
     "slide_type": "-"
    }
   },
   "outputs": [],
   "source": [
    "import csv\n",
    "import statistics\n",
    "\n",
    "fifa_file = open('Fifa20.csv', encoding='utf-8')\n",
    "file_reader = csv.reader(fifa_file)\n",
    "player_data = list(file_reader)\n",
    "fifa_file.close()\n",
    "header = player_data[0]\n",
    "player_data = player_data[1:]\n",
    "for row in player_data:\n",
    "    for idx in [2, 4]:\n",
    "        row[idx] = int(row[idx])\n",
    "\n",
    "def todollars(amount):\n",
    "    strlen = len(amount)\n",
    "    controlchar = amount[strlen-1].upper()\n",
    "    if controlchar.isnumeric():\n",
    "        return float(amount[1:])\n",
    "\n",
    "    truncVal = float(amount[1:strlen-1])\n",
    "    if controlchar == 'B':\n",
    "        return truncVal * 1000000000\n",
    "    elif controlchar == 'M':\n",
    "        return truncVal * 1000000\n",
    "    elif controlchar == 'K':\n",
    "        return truncVal * 1000\n",
    "    else:\n",
    "        return 0\n",
    "    return\n",
    "def get_column(col_name):\n",
    "    column = []\n",
    "    colIndex = header.index(col_name)\n",
    "    for row in player_data:\n",
    "        column.append(row[colIndex]) \n",
    "    return column\n",
    "def player_count(position):\n",
    "    players = get_column(\"Position\")\n",
    "    return players.count(position)\n",
    "def natlPlayerCt(nation):\n",
    "    players = get_column(\"Nationality\")\n",
    "    return players.count(nation)\n",
    "def player_to_dict(player_id):\n",
    "    output = {}\n",
    "    for row in player_data:\n",
    "        if int(row[0]) == int(player_id):\n",
    "            for i in header:\n",
    "                output[i] = row[header.index(i)]\n",
    "            return output"
   ]
  },
  {
   "cell_type": "code",
   "execution_count": 2,
   "metadata": {
    "autoscroll": false,
    "collapsed": false,
    "ein.hycell": false,
    "ein.tags": "worksheet-0",
    "slideshow": {
     "slide_type": "-"
    }
   },
   "outputs": [
    {
     "name": "stdout",
     "output_type": "stream",
     "text": [
      "['ID', 'Name', 'Age', 'Nationality', 'Overall', 'Club', 'Position', 'Value', 'Wage', 'Preferred Foot', 'Jersey Number', 'Height', 'Weight']\n",
      "['158023', 'L. Messi', 32, 'Argentina', 94, 'FC Barcelona', 'RW', '€95.5M', '€565K', 'Left', '10', \"5'7\", '159lbs']\n",
      "['20801', 'Cristiano Ronaldo', 34, 'Portugal', 93, 'Juventus', 'ST', '€58.5M', '€405K', 'Right', '7', \"6'2\", '183lbs']\n",
      "['190871', 'Neymar Jr', 27, 'Brazil', 92, 'Paris Saint-Germain', 'LW', '€105.5M', '€290K', 'Right', '10', \"5'9\", '150lbs']\n",
      "['200389', 'J. Oblak', 26, 'Slovenia', 91, 'Atlético Madrid', 'GK', '€77.5M', '€125K', 'Right', '13', \"6'2\", '192lbs']\n",
      "['183277', 'E. Hazard', 28, 'Belgium', 91, 'Real Madrid', 'LW', '€90M', '€470K', 'Right', '7', \"5'9\", '163lbs']\n"
     ]
    }
   ],
   "source": [
    "print(header)\n",
    "for row in player_data[:5]:\n",
    "    print(row)"
   ]
  },
  {
   "cell_type": "code",
   "execution_count": 61,
   "metadata": {
    "autoscroll": false,
    "collapsed": false,
    "ein.hycell": false,
    "ein.tags": "worksheet-0",
    "slideshow": {
     "slide_type": "-"
    }
   },
   "outputs": [
    {
     "data": {
      "text/plain": [
       "'A. Hložek'"
      ]
     },
     "execution_count": 61,
     "metadata": {},
     "output_type": "execute_result"
    }
   ],
   "source": [
    "#q1\n",
    "youngest = player_data[0][2]\n",
    "for row in player_data:\n",
    "    if row[2] < youngest:\n",
    "        youngest = row[2]\n",
    "        youngestName = row[1]\n",
    "youngestName"
   ]
  },
  {
   "cell_type": "code",
   "execution_count": 72,
   "metadata": {
    "autoscroll": false,
    "collapsed": false,
    "ein.hycell": false,
    "ein.tags": "worksheet-0",
    "slideshow": {
     "slide_type": "-"
    }
   },
   "outputs": [
    {
     "data": {
      "text/plain": [
       "'L. Messi'"
      ]
     },
     "execution_count": 72,
     "metadata": {},
     "output_type": "execute_result"
    }
   ],
   "source": [
    "#q2\n",
    "maxPay = todollars(player_data[0][8])\n",
    "maxPayName = player_data[0][1]\n",
    "for row in player_data:\n",
    "    if todollars(row[8]) > maxPay:\n",
    "        maxPay = todollars(row[8])\n",
    "        maxPayName = row[1]\n",
    "maxPayName"
   ]
  },
  {
   "cell_type": "code",
   "execution_count": 73,
   "metadata": {
    "autoscroll": false,
    "collapsed": false,
    "ein.hycell": false,
    "ein.tags": "worksheet-0",
    "slideshow": {
     "slide_type": "-"
    }
   },
   "outputs": [
    {
     "data": {
      "text/plain": [
       "'Neymar Jr'"
      ]
     },
     "execution_count": 73,
     "metadata": {},
     "output_type": "execute_result"
    }
   ],
   "source": [
    "#q3\n",
    "maxValue = todollars(player_data[0][7])\n",
    "for row in player_data:\n",
    "    if todollars(row[7]) > maxValue:\n",
    "        maxValue = todollars(row[7])\n",
    "        maxValueName = row[1]\n",
    "        maxValueID = row[0]\n",
    "maxValueName"
   ]
  },
  {
   "cell_type": "code",
   "execution_count": 76,
   "metadata": {
    "autoscroll": false,
    "collapsed": false,
    "ein.hycell": false,
    "ein.tags": "worksheet-0",
    "slideshow": {
     "slide_type": "-"
    }
   },
   "outputs": [
    {
     "data": {
      "text/plain": [
       "'LW'"
      ]
     },
     "execution_count": 76,
     "metadata": {},
     "output_type": "execute_result"
    }
   ],
   "source": [
    "#q4\n",
    "for row in player_data:\n",
    "    if row[0] == maxValueID:\n",
    "        q4answer = row[6]\n",
    "q4answer       "
   ]
  },
  {
   "cell_type": "code",
   "execution_count": 83,
   "metadata": {
    "autoscroll": false,
    "collapsed": false,
    "ein.hycell": false,
    "ein.tags": "worksheet-0",
    "slideshow": {
     "slide_type": "-"
    }
   },
   "outputs": [
    {
     "data": {
      "text/plain": [
       "['FC Barcelona',\n",
       " 'Juventus',\n",
       " 'Paris Saint-Germain',\n",
       " 'Atlético Madrid',\n",
       " 'Real Madrid']"
      ]
     },
     "execution_count": 83,
     "metadata": {},
     "output_type": "execute_result"
    }
   ],
   "source": [
    "#q5\n",
    "get_column(\"Club\")[:5]"
   ]
  },
  {
   "cell_type": "code",
   "execution_count": 90,
   "metadata": {
    "autoscroll": false,
    "collapsed": false,
    "ein.hycell": false,
    "ein.tags": "worksheet-0",
    "slideshow": {
     "slide_type": "-"
    }
   },
   "outputs": [
    {
     "data": {
      "text/plain": [
       "['A. Abdallah',\n",
       " 'A. Abdellaoui',\n",
       " 'A. Abdennour',\n",
       " 'A. Abdi',\n",
       " 'A. Abdu',\n",
       " 'A. Abedzadeh']"
      ]
     },
     "execution_count": 90,
     "metadata": {},
     "output_type": "execute_result"
    }
   ],
   "source": [
    "#q6\n",
    "names = get_column(\"Name\")\n",
    "sorted(names)[:6]"
   ]
  },
  {
   "cell_type": "code",
   "execution_count": 96,
   "metadata": {
    "autoscroll": false,
    "collapsed": false,
    "ein.hycell": false,
    "ein.tags": "worksheet-0",
    "slideshow": {
     "slide_type": "-"
    }
   },
   "outputs": [
    {
     "data": {
      "text/plain": [
       "9456.942772732247"
      ]
     },
     "execution_count": 96,
     "metadata": {},
     "output_type": "execute_result"
    }
   ],
   "source": [
    "#q7\n",
    "wages = get_column(\"Wage\")\n",
    "for i in range(len(wages)):\n",
    "    wages[i] = todollars(wages[i])\n",
    "statistics.mean(wages)"
   ]
  },
  {
   "cell_type": "code",
   "execution_count": 101,
   "metadata": {
    "autoscroll": false,
    "collapsed": false,
    "ein.hycell": false,
    "ein.tags": "worksheet-0",
    "slideshow": {
     "slide_type": "-"
    }
   },
   "outputs": [
    {
     "data": {
      "text/plain": [
       "66.24499398183609"
      ]
     },
     "execution_count": 101,
     "metadata": {},
     "output_type": "execute_result"
    }
   ],
   "source": [
    "#q8\n",
    "overall = get_column(\"Overall\")\n",
    "statistics.mean(overall)"
   ]
  },
  {
   "cell_type": "code",
   "execution_count": 104,
   "metadata": {
    "autoscroll": false,
    "collapsed": false,
    "ein.hycell": false,
    "ein.tags": "worksheet-0",
    "slideshow": {
     "slide_type": "-"
    }
   },
   "outputs": [
    {
     "data": {
      "text/plain": [
       "2036"
      ]
     },
     "execution_count": 104,
     "metadata": {},
     "output_type": "execute_result"
    }
   ],
   "source": [
    "#q9\n",
    "player_count(\"GK\")"
   ]
  },
  {
   "cell_type": "code",
   "execution_count": 105,
   "metadata": {
    "autoscroll": false,
    "collapsed": false,
    "ein.hycell": false,
    "ein.tags": "worksheet-0",
    "slideshow": {
     "slide_type": "-"
    }
   },
   "outputs": [
    {
     "data": {
      "text/plain": [
       "1146"
      ]
     },
     "execution_count": 105,
     "metadata": {},
     "output_type": "execute_result"
    }
   ],
   "source": [
    "#q10\n",
    "player_count(\"CAM\")"
   ]
  },
  {
   "cell_type": "code",
   "execution_count": 112,
   "metadata": {
    "autoscroll": false,
    "collapsed": false,
    "ein.hycell": false,
    "ein.tags": "worksheet-0",
    "slideshow": {
     "slide_type": "-"
    }
   },
   "outputs": [
    {
     "data": {
      "text/plain": [
       "'CB'"
      ]
     },
     "execution_count": 112,
     "metadata": {},
     "output_type": "execute_result"
    }
   ],
   "source": [
    "#q11\n",
    "positionNames = list(dict.fromkeys(get_column(\"Position\")))\n",
    "q11numbers = []\n",
    "for i in positionNames:\n",
    "    q11numbers.append(player_count(i))\n",
    "positionNames[q11numbers.index(max(q11numbers))]"
   ]
  },
  {
   "cell_type": "code",
   "execution_count": 28,
   "metadata": {
    "autoscroll": false,
    "collapsed": false,
    "ein.hycell": false,
    "ein.tags": "worksheet-0",
    "slideshow": {
     "slide_type": "-"
    }
   },
   "outputs": [
    {
     "data": {
      "text/plain": [
       "{'ID': '183277',\n",
       " 'Name': 'E. Hazard',\n",
       " 'Age': 28,\n",
       " 'Nationality': 'Belgium',\n",
       " 'Overall': 91,\n",
       " 'Club': 'Real Madrid',\n",
       " 'Position': 'LW',\n",
       " 'Value': '€90M',\n",
       " 'Wage': '€470K',\n",
       " 'Preferred Foot': 'Right',\n",
       " 'Jersey Number': '7',\n",
       " 'Height': \"5'9\",\n",
       " 'Weight': '163lbs'}"
      ]
     },
     "execution_count": 28,
     "metadata": {},
     "output_type": "execute_result"
    }
   ],
   "source": [
    "#q12\n",
    "\n",
    "player_to_dict('183277')"
   ]
  },
  {
   "cell_type": "code",
   "execution_count": 29,
   "metadata": {
    "autoscroll": false,
    "collapsed": false,
    "ein.hycell": false,
    "ein.tags": "worksheet-0",
    "slideshow": {
     "slide_type": "-"
    }
   },
   "outputs": [
    {
     "data": {
      "text/plain": [
       "{'ID': '209331',\n",
       " 'Name': 'M. Salah',\n",
       " 'Age': 27,\n",
       " 'Nationality': 'Egypt',\n",
       " 'Overall': 90,\n",
       " 'Club': 'Liverpool',\n",
       " 'Position': 'RW',\n",
       " 'Value': '€80.5M',\n",
       " 'Wage': '€240K',\n",
       " 'Preferred Foot': 'Left',\n",
       " 'Jersey Number': '11',\n",
       " 'Height': \"5'9\",\n",
       " 'Weight': '157lbs'}"
      ]
     },
     "execution_count": 29,
     "metadata": {},
     "output_type": "execute_result"
    }
   ],
   "source": [
    "#q13\n",
    "player_to_dict(209331)"
   ]
  },
  {
   "cell_type": "code",
   "execution_count": 30,
   "metadata": {
    "autoscroll": false,
    "collapsed": false,
    "ein.hycell": false,
    "ein.tags": "worksheet-0",
    "slideshow": {
     "slide_type": "-"
    }
   },
   "outputs": [
    {
     "data": {
      "text/plain": [
       "{'ID': '195864',\n",
       " 'Name': 'P. Pogba',\n",
       " 'Age': 26,\n",
       " 'Nationality': 'France',\n",
       " 'Overall': 88,\n",
       " 'Club': 'Manchester United',\n",
       " 'Position': 'CM',\n",
       " 'Value': '€72.5M',\n",
       " 'Wage': '€250K',\n",
       " 'Preferred Foot': 'Right',\n",
       " 'Jersey Number': '6',\n",
       " 'Height': \"6'3\",\n",
       " 'Weight': '185lbs'}"
      ]
     },
     "execution_count": 30,
     "metadata": {},
     "output_type": "execute_result"
    }
   ],
   "source": [
    "#q14\n",
    "player_to_dict(195864)"
   ]
  },
  {
   "cell_type": "code",
   "execution_count": 31,
   "metadata": {
    "autoscroll": false,
    "collapsed": false,
    "ein.hycell": false,
    "ein.tags": "worksheet-0",
    "slideshow": {
     "slide_type": "-"
    }
   },
   "outputs": [
    {
     "data": {
      "text/plain": [
       "{'ID': '177003',\n",
       " 'Name': 'L. Modrić',\n",
       " 'Age': 33,\n",
       " 'Nationality': 'Croatia',\n",
       " 'Overall': 90,\n",
       " 'Club': 'Real Madrid',\n",
       " 'Position': 'CM',\n",
       " 'Value': '€45M',\n",
       " 'Wage': '€340K',\n",
       " 'Preferred Foot': 'Right',\n",
       " 'Jersey Number': '10',\n",
       " 'Height': \"5'8\",\n",
       " 'Weight': '146lbs'}"
      ]
     },
     "execution_count": 31,
     "metadata": {},
     "output_type": "execute_result"
    }
   ],
   "source": [
    "#q15\n",
    "player_to_dict(177003)"
   ]
  },
  {
   "cell_type": "code",
   "execution_count": 32,
   "metadata": {
    "autoscroll": false,
    "collapsed": false,
    "ein.hycell": false,
    "ein.tags": "worksheet-0",
    "slideshow": {
     "slide_type": "-"
    }
   },
   "outputs": [
    {
     "data": {
      "text/plain": [
       "{'Right': 13960, 'Left': 4318}"
      ]
     },
     "execution_count": 32,
     "metadata": {},
     "output_type": "execute_result"
    }
   ],
   "source": [
    "#q16\n",
    "q16dict = {\n",
    "    \"Right\": get_column(\"Preferred Foot\").count(\"Right\"),\n",
    "    \"Left\" : get_column(\"Preferred Foot\").count(\"Left\")\n",
    "    }\n",
    "q16dict"
   ]
  },
  {
   "cell_type": "code",
   "execution_count": 11,
   "metadata": {
    "autoscroll": false,
    "collapsed": false,
    "ein.hycell": false,
    "ein.tags": "worksheet-0",
    "slideshow": {
     "slide_type": "-"
    }
   },
   "outputs": [
    {
     "data": {
      "text/plain": [
       "{'Argentina': 886,\n 'Portugal': 344,\n 'Brazil': 824,\n 'Slovenia': 61,\n 'Belgium': 268,\n 'Germany': 1216,\n 'Netherlands': 416,\n 'Croatia': 126,\n 'Egypt': 30,\n 'France': 984,\n 'Senegal': 127,\n 'England': 1667,\n 'Spain': 1035,\n 'Italy': 732,\n 'Uruguay': 164,\n 'Poland': 324,\n 'Denmark': 345,\n 'Gabon': 16,\n 'Korea Republic': 322,\n 'Costa Rica': 30,\n 'Slovakia': 54,\n 'Bosnia Herzegovina': 66,\n 'Serbia': 139,\n 'Scotland': 277,\n 'Hungary': 35,\n 'Switzerland': 229,\n 'Greece': 96,\n 'Austria': 319,\n 'Morocco': 94,\n 'Sweden': 358,\n 'Wales': 117,\n 'Colombia': 591,\n 'Czech Republic': 102,\n 'Chile': 370,\n 'Algeria': 50,\n 'Ivory Coast': 105,\n 'Togo': 13,\n 'Norway': 350,\n 'Mexico': 340,\n 'Iceland': 46,\n 'Finland': 72,\n 'Jamaica': 29,\n 'Albania': 43,\n 'Guinea': 35,\n 'Cameroon': 78,\n 'Ghana': 130,\n 'Montenegro': 33,\n 'Ukraine': 69,\n 'Russia': 81,\n 'DR Congo': 54,\n 'Central African Rep.': 4,\n 'Venezuela': 66,\n 'Nigeria': 126,\n 'Armenia': 8,\n 'Israel': 16,\n 'Ecuador': 53,\n 'Paraguay': 80,\n 'Australia': 196,\n 'Turkey': 294,\n 'Romania': 287,\n 'Japan': 453,\n 'Mali': 55,\n 'United States': 347,\n 'Kosovo': 40,\n 'Dominican Republic': 4,\n 'Tanzania': 4,\n 'China PR': 373,\n 'Northern Ireland': 81,\n 'Republic of Ireland': 348,\n 'Tunisia': 35,\n 'Cape Verde': 20,\n 'FYR Macedonia': 20,\n 'Burkina Faso': 16,\n 'Kenya': 7,\n 'Angola': 16,\n 'South Africa': 72,\n 'Peru': 35,\n 'Syria': 4,\n 'Gambia': 22,\n 'New Zealand': 35,\n 'Equatorial Guinea': 6,\n 'Zimbabwe': 12,\n 'Georgia': 25,\n 'Canada': 61,\n 'Estonia': 6,\n 'Benin': 15,\n 'Bulgaria': 41,\n 'Mozambique': 4,\n 'Honduras': 13,\n 'Guinea Bissau': 21,\n 'Iran': 15,\n 'Philippines': 2,\n 'Cyprus': 11,\n 'Madagascar': 8,\n 'Uzbekistan': 3,\n 'Moldova': 12,\n 'Cuba': 4,\n 'Sierra Leone': 10,\n 'Curacao': 16,\n 'Zambia': 10,\n 'Congo': 18,\n 'Bolivia': 23,\n 'Comoros': 9,\n 'Iraq': 5,\n 'Chad': 1,\n 'Lithuania': 10,\n 'Saudi Arabia': 310,\n 'Panama': 12,\n 'Libya': 4,\n 'Bahrain': 1,\n 'St Kitts Nevis': 4,\n 'New Caledonia': 2,\n 'Luxembourg': 9,\n 'Trinidad & Tobago': 6,\n 'Thailand': 4,\n 'United Arab Emirates': 22,\n 'Eritrea': 1,\n 'Korea DPR': 4,\n 'El Salvador': 4,\n 'Azerbaijan': 6,\n 'Latvia': 6,\n 'Montserrat': 3,\n 'Puerto Rico': 1,\n 'Bermuda': 3,\n 'São Tomé & Príncipe': 1,\n 'Antigua & Barbuda': 7,\n 'Burundi': 4,\n 'Kazakhstan': 2,\n 'Liberia': 1,\n 'Guyana': 4,\n 'Haiti': 7,\n 'Jordan': 1,\n 'Faroe Islands': 5,\n 'Mauritania': 5,\n 'Namibia': 2,\n 'Rwanda': 2,\n 'Uganda': 3,\n 'Hong Kong': 1,\n 'Chinese Taipei': 1,\n 'Belize': 1,\n 'Palestine': 4,\n 'Mauritius': 1,\n 'Guam': 1,\n 'Suriname': 2,\n 'Lebanon': 3,\n 'Guatemala': 2,\n 'Sudan': 3,\n 'Liechtenstein': 2,\n 'Grenada': 2,\n 'St Lucia': 1,\n 'Afghanistan': 2,\n 'Ethiopia': 1,\n 'Barbados': 1,\n 'India': 23,\n 'Malta': 2,\n 'Niger': 3,\n 'Vietnam': 1,\n 'Malawi': 1,\n 'Gibraltar': 1,\n 'Macau': 1,\n 'South Sudan': 1,\n 'Indonesia': 1}"
      ]
     },
     "execution_count": 11,
     "metadata": {},
     "output_type": "execute_result"
    }
   ],
   "source": [
    "#q17\n",
    "countries = list(dict.fromkeys(get_column(\"Nationality\")))\n",
    "q17numbers = []\n",
    "q17dict = {}\n",
    "for i in countries:\n",
    "    q17numbers.append(natlPlayerCt(i))\n",
    "    q17dict[i] = q17numbers[countries.index(i)]\n",
    "q17dict"
   ]
  },
  {
   "cell_type": "code",
   "execution_count": 42,
   "metadata": {
    "autoscroll": false,
    "collapsed": false,
    "ein.hycell": false,
    "ein.tags": "worksheet-0",
    "slideshow": {
     "slide_type": "-"
    }
   },
   "outputs": [
    {
     "data": {
      "text/plain": [
       "{'Argentina': 69.11851015801355,\n 'Portugal': 70.51453488372093,\n 'Brazil': 71.1614077669903,\n 'Slovenia': 68.70491803278688,\n 'Belgium': 68.43283582089552,\n 'Germany': 65.93914473684211,\n 'Netherlands': 68.14903846153847,\n 'Croatia': 69.78571428571429,\n 'Egypt': 70.1,\n 'France': 67.41666666666667,\n 'Senegal': 68.64566929133858,\n 'England': 63.251949610077986,\n 'Spain': 69.9536231884058,\n 'Italy': 67.65710382513662,\n 'Uruguay': 71.64634146341463,\n 'Poland': 63.49074074074074,\n 'Denmark': 63.68115942028985,\n 'Gabon': 70.6875,\n 'Korea Republic': 63.683229813664596,\n 'Costa Rica': 68.23333333333333,\n 'Slovakia': 69.31481481481481,\n 'Bosnia Herzegovina': 68.87878787878788,\n 'Serbia': 69.48920863309353,\n 'Scotland': 64.75090252707581,\n 'Hungary': 69.68571428571428,\n 'Switzerland': 64.8471615720524,\n 'Greece': 69.39583333333333,\n 'Austria': 65.59561128526646,\n 'Morocco': 69.69148936170212,\n 'Sweden': 63.79050279329609,\n 'Wales': 64.6923076923077,\n 'Colombia': 65.67851099830796,\n 'Czech Republic': 70.31372549019608,\n 'Chile': 64.80540540540541,\n 'Algeria': 71.38,\n 'Ivory Coast': 69,\n 'Togo': 69.38461538461539,\n 'Norway': 63.02857142857143,\n 'Mexico': 65.80882352941177,\n 'Iceland': 67.28260869565217,\n 'Finland': 63.81944444444444,\n 'Jamaica': 66.6896551724138,\n 'Albania': 66.4186046511628,\n 'Guinea': 68.8,\n 'Cameroon': 68.33333333333333,\n 'Ghana': 66.97692307692307,\n 'Montenegro': 66.36363636363636,\n 'Ukraine': 69.8695652173913,\n 'Russia': 69.33333333333333,\n 'DR Congo': 68.4074074074074,\n 'Central African Rep.': 70.5,\n 'Venezuela': 67.07575757575758,\n 'Nigeria': 67.15079365079364,\n 'Armenia': 69.375,\n 'Israel': 71.125,\n 'Ecuador': 70.49056603773585,\n 'Paraguay': 69.7875,\n 'Australia': 62.58163265306123,\n 'Turkey': 66.06802721088435,\n 'Romania': 63.70383275261324,\n 'Japan': 63.69094922737307,\n 'Mali': 67.50909090909092,\n 'United States': 64.53025936599424,\n 'Kosovo': 66.625,\n 'Dominican Republic': 67.5,\n 'Tanzania': 63.25,\n 'China PR': 59.48525469168901,\n 'Northern Ireland': 63.79012345679013,\n 'Republic of Ireland': 61.00574712643678,\n 'Tunisia': 68.25714285714285,\n 'Cape Verde': 70.5,\n 'FYR Macedonia': 68.7,\n 'Burkina Faso': 66.4375,\n 'Kenya': 65.28571428571429,\n 'Angola': 69.375,\n 'South Africa': 67.72222222222223,\n 'Peru': 69.74285714285715,\n 'Syria': 70.25,\n 'Gambia': 65.31818181818181,\n 'New Zealand': 64.17142857142858,\n 'Equatorial Guinea': 69,\n 'Zimbabwe': 67.25,\n 'Georgia': 69.04,\n 'Canada': 63.91803278688525,\n 'Estonia': 66.33333333333333,\n 'Benin': 67.66666666666667,\n 'Bulgaria': 63.46341463414634,\n 'Mozambique': 73.25,\n 'Honduras': 68.38461538461539,\n 'Guinea Bissau': 67.38095238095238,\n 'Iran': 69,\n 'Philippines': 69,\n 'Cyprus': 61.72727272727273,\n 'Madagascar': 70.25,\n 'Uzbekistan': 67.66666666666667,\n 'Moldova': 65,\n 'Cuba': 67.25,\n 'Sierra Leone': 63,\n 'Curacao': 66,\n 'Zambia': 67.1,\n 'Congo': 65.44444444444444,\n 'Bolivia': 66.04347826086956,\n 'Comoros': 65.22222222222223,\n 'Iraq': 67.6,\n 'Chad': 73,\n 'Lithuania': 63.4,\n 'Saudi Arabia': 60.92903225806452,\n 'Panama': 66,\n 'Libya': 71,\n 'Bahrain': 72,\n 'St Kitts Nevis': 62.75,\n 'New Caledonia': 67.5,\n 'Luxembourg': 65.66666666666667,\n 'Trinidad & Tobago': 65.83333333333333,\n 'Thailand': 64,\n 'United Arab Emirates': 62.86363636363637,\n 'Eritrea': 71,\n 'Korea DPR': 65.75,\n 'El Salvador': 67.25,\n 'Azerbaijan': 62.833333333333336,\n 'Latvia': 61.666666666666664,\n 'Montserrat': 66,\n 'Puerto Rico': 70,\n 'Bermuda': 63.666666666666664,\n 'São Tomé & Príncipe': 70,\n 'Antigua & Barbuda': 59.42857142857143,\n 'Burundi': 63.75,\n 'Kazakhstan': 68,\n 'Liberia': 69,\n 'Guyana': 63.5,\n 'Haiti': 63.285714285714285,\n 'Jordan': 68,\n 'Faroe Islands': 61.4,\n 'Mauritania': 65.2,\n 'Namibia': 67,\n 'Rwanda': 64,\n 'Uganda': 66,\n 'Hong Kong': 67,\n 'Chinese Taipei': 66,\n 'Belize': 66,\n 'Palestine': 62,\n 'Mauritius': 66,\n 'Guam': 66,\n 'Suriname': 66,\n 'Lebanon': 64,\n 'Guatemala': 65.5,\n 'Sudan': 62.666666666666664,\n 'Liechtenstein': 62,\n 'Grenada': 60.5,\n 'St Lucia': 64,\n 'Afghanistan': 62,\n 'Ethiopia': 64,\n 'Barbados': 64,\n 'India': 60,\n 'Malta': 60,\n 'Niger': 57,\n 'Vietnam': 62,\n 'Malawi': 62,\n 'Gibraltar': 62,\n 'Macau': 61,\n 'South Sudan': 59,\n 'Indonesia': 56}"
      ]
     },
     "execution_count": 42,
     "metadata": {},
     "output_type": "execute_result"
    }
   ],
   "source": [
    "#q18\n",
    "q18dict = {}\n",
    "for i in countries:\n",
    "    countrydata = []\n",
    "    for row in player_data:\n",
    "        if row[3] == i:\n",
    "            countrydata.append(row[4])\n",
    "    q18dict[i] = statistics.mean(countrydata)\n",
    "q18dict"
   ]
  },
  {
   "cell_type": "code",
   "execution_count": 49,
   "metadata": {
    "autoscroll": false,
    "collapsed": false,
    "ein.hycell": false,
    "ein.tags": "worksheet-0",
    "slideshow": {
     "slide_type": "-"
    }
   },
   "outputs": [
    {
     "data": {
      "text/plain": [
       "'Mozambique'"
      ]
     },
     "execution_count": 49,
     "metadata": {},
     "output_type": "execute_result"
    }
   ],
   "source": [
    "#q19\n",
    "max(q18dict, key=q18dict.get)"
   ]
  },
  {
   "cell_type": "code",
   "execution_count": 63,
   "metadata": {
    "autoscroll": false,
    "collapsed": false,
    "ein.hycell": false,
    "ein.tags": "worksheet-0",
    "slideshow": {
     "slide_type": "-"
    }
   },
   "outputs": [
    {
     "data": {
      "text/plain": [
       "'FC Bayern München'"
      ]
     },
     "execution_count": 63,
     "metadata": {},
     "output_type": "execute_result"
    }
   ],
   "source": [
    "#q20\n",
    "q20dict = {}\n",
    "clubs = list(dict.fromkeys(get_column(\"Club\")))\n",
    "for i in clubs:\n",
    "    clubdata = []\n",
    "    for row in player_data:\n",
    "        if row[5] == i:\n",
    "            clubdata.append(todollars(row[7]))\n",
    "    q20dict[i] = statistics.mean(clubdata)\n",
    "max(q20dict, key=q20dict.get)"
   ]
  },
  {
   "cell_type": "code",
   "execution_count": 60,
   "metadata": {
    "autoscroll": false,
    "collapsed": false,
    "ein.hycell": false,
    "ein.tags": "worksheet-0",
    "slideshow": {
     "slide_type": "-"
    }
   },
   "outputs": [
    {
     "data": {
      "text/plain": [
       "'Value'"
      ]
     },
     "execution_count": 60,
     "metadata": {},
     "output_type": "execute_result"
    }
   ],
   "source": []
  },
  {
   "cell_type": "code",
   "execution_count": null,
   "metadata": {
    "autoscroll": false,
    "collapsed": false,
    "ein.hycell": false,
    "ein.tags": "worksheet-0",
    "slideshow": {
     "slide_type": "-"
    }
   },
   "outputs": [],
   "source": []
  }
 ],
 "metadata": {
  "kernelspec": {
   "argv": [
    "/usr/bin/python3",
    "-m",
    "ipykernel_launcher",
    "-f",
    "{connection_file}"
   ],
   "display_name": "Python 3",
   "env": null,
   "interrupt_mode": "signal",
   "language": "python",
   "metadata": null,
   "name": "python3"
  },
  "name": "main.ipynb"
 },
 "nbformat": 4,
 "nbformat_minor": 2
}
