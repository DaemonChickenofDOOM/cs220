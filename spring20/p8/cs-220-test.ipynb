{
 "cells": [
  {
   "cell_type": "code",
   "execution_count": 1,
   "metadata": {
    "autoscroll": false,
    "collapsed": false,
    "ein.hycell": false,
    "ein.tags": "worksheet-0",
    "slideshow": {
     "slide_type": "-"
    }
   },
   "outputs": [],
   "source": [
    "import csv\n",
    "from csv import *\n",
    "import statistics\n",
    "from statistics import *\n",
    "def process_csv(filename):\n",
    "    exampleFile = open(filename, encoding=\"utf-8\")\n",
    "    exampleReader = csv.reader(exampleFile)\n",
    "    exampleData = list(exampleReader)\n",
    "    exampleFile.close()\n",
    "    return exampleData"
   ]
  },
  {
   "cell_type": "code",
   "execution_count": 2,
   "metadata": {
    "autoscroll": false,
    "collapsed": false,
    "ein.hycell": false,
    "ein.tags": "worksheet-0",
    "slideshow": {
     "slide_type": "-"
    }
   },
   "outputs": [],
   "source": [
    "def get_mapping(filename):\n",
    "    test = process_csv(filename)\n",
    "    lookup = {}\n",
    "    for row in test:\n",
    "        lookup[row[0]] = row[1]\n",
    "    return lookup\n",
    "\n",
    "def get_raw_movies(filename):\n",
    "\n",
    "    base = process_csv(filename)\n",
    "    head = base[0]\n",
    "    data = base[1:]\n",
    "    mov = []\n",
    "\n",
    "    for j in range(len(data)):\n",
    "        datum = {}\n",
    "        for i in head:\n",
    "            if i in [\"directors\", \"actors\", \"genres\"]:\n",
    "                datum[i] = data[j][head.index(i)].split(\",\")\n",
    "            elif i == \"year\":\n",
    "                datum[i] = int(data[j][head.index(i)])\n",
    "            elif i == \"rating\":\n",
    "                datum[i] = float(data[j][head.index(i)])\n",
    "            else:\n",
    "                datum[i] = data[j][head.index(i)]\n",
    "        mov.append(datum)\n",
    "    return mov\n",
    "\n",
    "def get_movies(movies_path, mapping_path):\n",
    "    mov = get_raw_movies(movies_path)\n",
    "    mapping = get_mapping(mapping_path)\n",
    "\n",
    "    for i in mov:\n",
    "        i[\"title\"] = mapping[i[\"title\"]]\n",
    "        dirList = []\n",
    "        for j in i[\"directors\"]:\n",
    "            dirList.append(mapping[j])\n",
    "        i[\"directors\"] = dirList\n",
    "        actList = []\n",
    "        for k in i[\"actors\"]:\n",
    "            actList.append(mapping[k])\n",
    "        i[\"actors\"] = actList\n",
    "    return mov\n",
    "\n",
    "# Function provided by project8, donut touch\n",
    "def filter_movies_by_year(movies, year):\n",
    "    i = 0\n",
    "    while i < len(movies):\n",
    "        if movies[i][\"year\"] != year:\n",
    "            movies.pop(i)\n",
    "        else:\n",
    "            i += 1\n",
    "    return movies\n",
    "\n",
    "def hits(movies,section,dump=False):\n",
    "    data = []\n",
    "    for i in movies:\n",
    "        for j in i[section]:\n",
    "            if j in data:\n",
    "                continue\n",
    "            data.append(j)\n",
    "    if dump:\n",
    "        return data\n",
    "    else:\n",
    "        return len(data)\n",
    "\n",
    "def dump(movies,section,dedupe=False):\n",
    "    data = []\n",
    "    for i in movies:\n",
    "        if i[section] not in data and dedupe:\n",
    "            data.append(i[section])\n",
    "        elif not dedupe:\n",
    "            data.append(i[section])\n",
    "    return data\n",
    "\n",
    "def bucketize(movie_list, movie_key):\n",
    "    buckets = {}\n",
    "\n",
    "    if type(movie_list[0][movie_key]) == list:\n",
    "        bucketIdx = hits(movie_list,movie_key,True)\n",
    "        for i in bucketIdx:\n",
    "            contents = []\n",
    "\n",
    "            for j in movie_list:\n",
    "                if i in j[movie_key]:\n",
    "                    contents.append(j)\n",
    "            buckets[i] = contents\n",
    "    else:\n",
    "        bucketIdx = dump(movie_list,movie_key,True)\n",
    "       # for i in movie_list:\n",
    "            #if i[movie_key]\n",
    "        for i in bucketIdx:\n",
    "            contents = []\n",
    "\n",
    "            for j in movie_list:\n",
    "                if str(i).upper() == str(j[movie_key]).upper():\n",
    "                    contents.append(j)\n",
    "            buckets[i] = contents\n",
    "    return buckets\n"
   ]
  },
  {
   "cell_type": "code",
   "execution_count": 3,
   "metadata": {
    "autoscroll": false,
    "collapsed": false,
    "ein.hycell": false,
    "ein.tags": "worksheet-0",
    "slideshow": {
     "slide_type": "-"
    }
   },
   "outputs": [
    {
     "data": {
      "text/plain": [
       "{'nm0000131': 'John Cusack',\n",
       " 'nm0000154': 'Mel Gibson',\n",
       " 'nm0000163': 'Dustin Hoffman',\n",
       " 'nm0000418': 'Danny Glover',\n",
       " 'nm0000432': 'Gene Hackman',\n",
       " 'nm0000997': 'Gary Busey',\n",
       " 'nm0001149': 'Richard Donner',\n",
       " 'nm0001219': 'Gary Fleder',\n",
       " 'nm0752751': 'Mitchell Ryan',\n",
       " 'tt0313542': 'Runaway Jury',\n",
       " 'tt0093409': 'Lethal Weapon'}"
      ]
     },
     "execution_count": 3,
     "metadata": {},
     "output_type": "execute_result"
    }
   ],
   "source": [
    "#q1\n",
    "smap = get_mapping(\"small_mapping.csv\")\n",
    "smap"
   ]
  },
  {
   "cell_type": "code",
   "execution_count": 4,
   "metadata": {
    "autoscroll": false,
    "collapsed": false,
    "ein.hycell": false,
    "ein.tags": "worksheet-0",
    "slideshow": {
     "slide_type": "-"
    }
   },
   "outputs": [
    {
     "data": {
      "text/plain": [
       "'Gary Fleder'"
      ]
     },
     "execution_count": 4,
     "metadata": {},
     "output_type": "execute_result"
    }
   ],
   "source": [
    "#q2\n",
    "smap[\"nm0001219\"]"
   ]
  },
  {
   "cell_type": "code",
   "execution_count": 5,
   "metadata": {
    "autoscroll": false,
    "collapsed": false,
    "ein.hycell": false,
    "ein.tags": "worksheet-0",
    "slideshow": {
     "slide_type": "-"
    }
   },
   "outputs": [
    {
     "data": {
      "text/plain": [
       "['John Cusack',\n",
       " 'Mel Gibson',\n",
       " 'Dustin Hoffman',\n",
       " 'Danny Glover',\n",
       " 'Gene Hackman',\n",
       " 'Gary Busey',\n",
       " 'Richard Donner',\n",
       " 'Gary Fleder',\n",
       " 'Mitchell Ryan']"
      ]
     },
     "execution_count": 5,
     "metadata": {},
     "output_type": "execute_result"
    }
   ],
   "source": [
    "#q3\n",
    "names = []\n",
    "for i in list(smap):\n",
    "    if i[0] =='n':\n",
    "        names.append(smap[i])\n",
    "names"
   ]
  },
  {
   "cell_type": "code",
   "execution_count": 6,
   "metadata": {
    "autoscroll": false,
    "collapsed": false,
    "ein.hycell": false,
    "ein.tags": "worksheet-0",
    "slideshow": {
     "slide_type": "-"
    }
   },
   "outputs": [
    {
     "data": {
      "text/plain": [
       "['nm0000154', 'nm0000418']"
      ]
     },
     "execution_count": 6,
     "metadata": {},
     "output_type": "execute_result"
    }
   ],
   "source": [
    "#q4\n",
    "q4list = []\n",
    "q4list2 = []\n",
    "for i in names:\n",
    "    if \" G\" in i:\n",
    "        q4list.append(i)\n",
    "for i in q4list:\n",
    "    for j in list(smap):\n",
    "        if smap[j] == i:\n",
    "            q4list2.append(j)\n",
    "q4list2"
   ]
  },
  {
   "cell_type": "code",
   "execution_count": 7,
   "metadata": {
    "autoscroll": false,
    "collapsed": false,
    "ein.hycell": false,
    "ein.tags": "worksheet-0",
    "slideshow": {
     "slide_type": "-"
    }
   },
   "outputs": [
    {
     "data": {
      "text/plain": [
       "[{'title': 'tt0313542',\n",
       "  'year': 2003,\n",
       "  'rating': 7.1,\n",
       "  'directors': ['nm0001219'],\n",
       "  'actors': ['nm0000131', 'nm0000432', 'nm0000163'],\n",
       "  'genres': ['Crime', 'Drama', 'Thriller']},\n",
       " {'title': 'tt0093409',\n",
       "  'year': 1987,\n",
       "  'rating': 7.6,\n",
       "  'directors': ['nm0001149'],\n",
       "  'actors': ['nm0000154', 'nm0000418', 'nm0000997', 'nm0752751'],\n",
       "  'genres': ['Action', 'Crime', 'Thriller']}]"
      ]
     },
     "execution_count": 7,
     "metadata": {},
     "output_type": "execute_result"
    }
   ],
   "source": [
    "#q5\n",
    "smov = get_raw_movies(\"small_movies.csv\")\n",
    "smov"
   ]
  },
  {
   "cell_type": "code",
   "execution_count": 8,
   "metadata": {
    "autoscroll": false,
    "collapsed": false,
    "ein.hycell": false,
    "ein.tags": "worksheet-0",
    "slideshow": {
     "slide_type": "-"
    }
   },
   "outputs": [
    {
     "data": {
      "text/plain": [
       "4"
      ]
     },
     "execution_count": 8,
     "metadata": {},
     "output_type": "execute_result"
    }
   ],
   "source": [
    "#q6\n",
    "len(smov[1][\"actors\"])"
   ]
  },
  {
   "cell_type": "code",
   "execution_count": 9,
   "metadata": {
    "autoscroll": false,
    "collapsed": false,
    "ein.hycell": false,
    "ein.tags": "worksheet-0",
    "slideshow": {
     "slide_type": "-"
    }
   },
   "outputs": [
    {
     "data": {
      "text/plain": [
       "'nm0000131'"
      ]
     },
     "execution_count": 9,
     "metadata": {},
     "output_type": "execute_result"
    }
   ],
   "source": [
    "#q7\n",
    "smov[0][\"actors\"][0]"
   ]
  },
  {
   "cell_type": "code",
   "execution_count": 10,
   "metadata": {
    "autoscroll": false,
    "collapsed": false,
    "ein.hycell": false,
    "ein.tags": "worksheet-0",
    "slideshow": {
     "slide_type": "-"
    }
   },
   "outputs": [
    {
     "data": {
      "text/plain": [
       "'Lethal Weapon'"
      ]
     },
     "execution_count": 10,
     "metadata": {},
     "output_type": "execute_result"
    }
   ],
   "source": [
    "#q8\n",
    "small = get_movies(\"small_movies.csv\", \"small_mapping.csv\")\n",
    "movies = get_movies(\"movies.csv\", \"mapping.csv\")\n",
    "small[1][\"title\"]"
   ]
  },
  {
   "cell_type": "code",
   "execution_count": 11,
   "metadata": {
    "autoscroll": false,
    "collapsed": false,
    "ein.hycell": false,
    "ein.tags": "worksheet-0",
    "slideshow": {
     "slide_type": "-"
    }
   },
   "outputs": [
    {
     "data": {
      "text/plain": [
       "['John Cusack', 'Gene Hackman', 'Dustin Hoffman']"
      ]
     },
     "execution_count": 11,
     "metadata": {},
     "output_type": "execute_result"
    }
   ],
   "source": [
    "#q9\n",
    "small[0][\"actors\"]"
   ]
  },
  {
   "cell_type": "code",
   "execution_count": 12,
   "metadata": {
    "autoscroll": false,
    "collapsed": false,
    "ein.hycell": false,
    "ein.tags": "worksheet-0",
    "slideshow": {
     "slide_type": "-"
    }
   },
   "outputs": [
    {
     "data": {
      "text/plain": [
       "['Richard Donner']"
      ]
     },
     "execution_count": 12,
     "metadata": {},
     "output_type": "execute_result"
    }
   ],
   "source": [
    "#q10\n",
    "small[-1][\"directors\"]"
   ]
  },
  {
   "cell_type": "code",
   "execution_count": 13,
   "metadata": {
    "autoscroll": false,
    "collapsed": false,
    "ein.hycell": false,
    "ein.tags": "worksheet-0",
    "slideshow": {
     "slide_type": "-"
    }
   },
   "outputs": [
    {
     "data": {
      "text/plain": [
       "[{'title': 'Fortitude and Glory: Angelo Dundee and His Fighters',\n",
       "  'year': 2012,\n",
       "  'rating': 7.2,\n",
       "  'directors': ['Chris Tasara'],\n",
       "  'actors': ['Angelo Dundee', 'George Foreman', 'Freddie Roach'],\n",
       "  'genres': ['Sport']},\n",
       " {'title': 'Ivanhoe',\n",
       "  'year': 1952,\n",
       "  'rating': 6.8,\n",
       "  'directors': ['Richard Thorpe'],\n",
       "  'actors': ['Robert Taylor', 'George Sanders'],\n",
       "  'genres': ['Adventure', 'Drama', 'History']},\n",
       " {'title': 'The Great Gatsby',\n",
       "  'year': 1949,\n",
       "  'rating': 6.6,\n",
       "  'directors': ['Elliott Nugent'],\n",
       "  'actors': ['Alan Ladd', 'Macdonald Carey'],\n",
       "  'genres': ['Drama']}]"
      ]
     },
     "execution_count": 13,
     "metadata": {},
     "output_type": "execute_result"
    }
   ],
   "source": [
    "#q11\n",
    "movies[-3:]"
   ]
  },
  {
   "cell_type": "code",
   "execution_count": 14,
   "metadata": {
    "autoscroll": false,
    "collapsed": false,
    "ein.hycell": false,
    "ein.tags": "worksheet-0",
    "slideshow": {
     "slide_type": "-"
    }
   },
   "outputs": [
    {
     "data": {
      "text/plain": [
       "[{'title': 'The Big Wedding',\n",
       "  'year': 2013,\n",
       "  'rating': 5.6,\n",
       "  'directors': ['Justin Zackham'],\n",
       "  'actors': ['Robert De Niro'],\n",
       "  'genres': ['Comedy', 'Drama', 'Romance']},\n",
       " {'title': 'The Affair of the Necklace',\n",
       "  'year': 2001,\n",
       "  'rating': 6.1,\n",
       "  'directors': ['Charles Shyer'],\n",
       "  'actors': ['Simon Baker', 'Jonathan Pryce', 'Adrien Brody'],\n",
       "  'genres': ['Drama', 'History', 'Romance']}]"
      ]
     },
     "execution_count": 14,
     "metadata": {},
     "output_type": "execute_result"
    }
   ],
   "source": [
    "#q12\n",
    "movies[0:2]"
   ]
  },
  {
   "cell_type": "code",
   "execution_count": 15,
   "metadata": {
    "autoscroll": false,
    "collapsed": false,
    "ein.hycell": false,
    "ein.tags": "worksheet-0",
    "slideshow": {
     "slide_type": "-"
    }
   },
   "outputs": [
    {
     "data": {
      "text/plain": [
       "[{'title': 'Redskin',\n",
       "  'year': 1929,\n",
       "  'rating': 7.0,\n",
       "  'directors': ['Victor Schertzinger'],\n",
       "  'actors': ['Richard Dix', 'Tully Marshall', 'George Regas'],\n",
       "  'genres': ['Adventure', 'Drama', 'Western']},\n",
       " {'title': 'The Girl in the Show',\n",
       "  'year': 1929,\n",
       "  'rating': 6.5,\n",
       "  'directors': ['Edgar Selwyn'],\n",
       "  'actors': ['Raymond Hackett', 'Edward J. Nugent'],\n",
       "  'genres': ['Comedy']},\n",
       " {'title': 'Atlantic',\n",
       "  'year': 1929,\n",
       "  'rating': 5.5,\n",
       "  'directors': ['Ewald André Dupont'],\n",
       "  'actors': ['Franklin Dyall', 'John Stuart'],\n",
       "  'genres': ['Drama']}]"
      ]
     },
     "execution_count": 15,
     "metadata": {},
     "output_type": "execute_result"
    }
   ],
   "source": [
    "#q13\n",
    "mov = movies.copy()\n",
    "filter_movies_by_year(mov,1929)"
   ]
  },
  {
   "cell_type": "code",
   "execution_count": 16,
   "metadata": {
    "autoscroll": false,
    "collapsed": false,
    "ein.hycell": false,
    "ein.tags": "worksheet-0",
    "slideshow": {
     "slide_type": "-"
    }
   },
   "outputs": [
    {
     "data": {
      "text/plain": [
       "[{'title': 'Arizona',\n",
       "  'year': 1931,\n",
       "  'rating': 6.0,\n",
       "  'directors': ['George B. Seitz'],\n",
       "  'actors': ['John Wayne', 'Forrest Stanley'],\n",
       "  'genres': ['Drama', 'Romance']},\n",
       " {'title': 'City Lights',\n",
       "  'year': 1931,\n",
       "  'rating': 8.5,\n",
       "  'directors': ['Charles Chaplin'],\n",
       "  'actors': ['Charles Chaplin', 'Harry Myers'],\n",
       "  'genres': ['Comedy', 'Drama', 'Romance']},\n",
       " {'title': 'The Range Feud',\n",
       "  'year': 1931,\n",
       "  'rating': 5.8,\n",
       "  'directors': ['D. Ross Lederman'],\n",
       "  'actors': ['Buck Jones', 'John Wayne', 'Edward LeSaint'],\n",
       "  'genres': ['Mystery', 'Western']}]"
      ]
     },
     "execution_count": 16,
     "metadata": {},
     "output_type": "execute_result"
    }
   ],
   "source": [
    "#q14\n",
    "mov = movies.copy()\n",
    "filter_movies_by_year(mov,1931)"
   ]
  },
  {
   "cell_type": "code",
   "execution_count": 17,
   "metadata": {
    "autoscroll": false,
    "collapsed": false,
    "ein.hycell": false,
    "ein.tags": "worksheet-0",
    "slideshow": {
     "slide_type": "-"
    }
   },
   "outputs": [
    {
     "data": {
      "text/plain": [
       "2605"
      ]
     },
     "execution_count": 17,
     "metadata": {},
     "output_type": "execute_result"
    }
   ],
   "source": [
    "#q15\n",
    "hits(movies,\"actors\")"
   ]
  },
  {
   "cell_type": "code",
   "execution_count": 18,
   "metadata": {
    "autoscroll": false,
    "collapsed": false,
    "ein.hycell": false,
    "ein.tags": "worksheet-0",
    "slideshow": {
     "slide_type": "-"
    }
   },
   "outputs": [
    {
     "data": {
      "text/plain": [
       "18"
      ]
     },
     "execution_count": 18,
     "metadata": {},
     "output_type": "execute_result"
    }
   ],
   "source": [
    "#q16\n",
    "hits(movies,\"genres\")"
   ]
  },
  {
   "cell_type": "code",
   "execution_count": 19,
   "metadata": {
    "autoscroll": false,
    "collapsed": false,
    "ein.hycell": false,
    "ein.tags": "worksheet-0",
    "slideshow": {
     "slide_type": "-"
    }
   },
   "outputs": [
    {
     "data": {
      "text/plain": [
       "'Zorba the Greek'"
      ]
     },
     "execution_count": 19,
     "metadata": {},
     "output_type": "execute_result"
    }
   ],
   "source": [
    "#q17\n",
    "titles = dump(movies,\"title\")\n",
    "sorted(titles)[-1]"
   ]
  },
  {
   "cell_type": "code",
   "execution_count": 20,
   "metadata": {
    "autoscroll": false,
    "collapsed": false,
    "ein.hycell": false,
    "ein.tags": "worksheet-0",
    "slideshow": {
     "slide_type": "-"
    }
   },
   "outputs": [
    {
     "data": {
      "text/plain": [
       "6.401659528907923"
      ]
     },
     "execution_count": 20,
     "metadata": {},
     "output_type": "execute_result"
    }
   ],
   "source": [
    "#q18\n",
    "ratings = dump(movies,\"rating\")\n",
    "mean(ratings)"
   ]
  },
  {
   "cell_type": "code",
   "execution_count": 21,
   "metadata": {
    "autoscroll": false,
    "collapsed": false,
    "ein.hycell": false,
    "ein.tags": "worksheet-0",
    "slideshow": {
     "slide_type": "-"
    }
   },
   "outputs": [
    {
     "data": {
      "text/plain": [
       "'The Godfather'"
      ]
     },
     "execution_count": 21,
     "metadata": {},
     "output_type": "execute_result"
    }
   ],
   "source": [
    "#q19\n",
    "for i in movies:\n",
    "    if i[\"rating\"] == max(ratings):\n",
    "        q19ans = i[\"title\"]\n",
    "q19ans"
   ]
  },
  {
   "cell_type": "code",
   "execution_count": 22,
   "metadata": {
    "autoscroll": false,
    "collapsed": false,
    "ein.hycell": false,
    "ein.tags": "worksheet-0",
    "slideshow": {
     "slide_type": "-"
    }
   },
   "outputs": [
    {
     "data": {
      "text/plain": [
       "'Shoulder Arms'"
      ]
     },
     "execution_count": 22,
     "metadata": {},
     "output_type": "execute_result"
    }
   ],
   "source": [
    "#q20\n",
    "mov = movies.copy()\n",
    "filter_movies_by_year(mov,min(dump(movies,\"year\")))[0][\"title\"]"
   ]
  },
  {
   "cell_type": "code",
   "execution_count": 23,
   "metadata": {
    "autoscroll": false,
    "collapsed": false,
    "ein.hycell": false,
    "ein.tags": "worksheet-0",
    "slideshow": {
     "slide_type": "-"
    }
   },
   "outputs": [
    {
     "data": {
      "text/plain": [
       "{'short': [{'title': 'A', 'year': 2018, 'style': 'short', 'genres': ['g1']},\n",
       "  {'title': 'C', 'year': 2019, 'style': 'short', 'genres': ['g3']}],\n",
       " 'long': [{'title': 'B', 'year': 2018, 'style': 'long', 'genres': ['g2']},\n",
       "  {'title': 'D', 'year': 2019, 'style': 'long', 'genres': ['g1', 'g2', 'g3']}]}"
      ]
     },
     "execution_count": 23,
     "metadata": {},
     "output_type": "execute_result"
    }
   ],
   "source": [
    "#q21\n",
    "test_movies = [\n",
    "{\"title\": \"A\", \"year\": 2018, \"style\": \"short\", \"genres\": [\"g1\"]},\n",
    "{\"title\": \"B\", \"year\": 2018, \"style\": \"long\",  \"genres\": [\"g2\"]},\n",
    "{\"title\": \"C\", \"year\": 2019, \"style\": \"short\", \"genres\": [\"g3\"]},\n",
    "{\"title\": \"D\", \"year\": 2019, \"style\": \"long\", \"genres\": [\"g1\", \"g2\", \"g3\"]},\n",
    "]\n",
    "bucketize(test_movies,\"style\")"
   ]
  },
  {
   "cell_type": "code",
   "execution_count": 24,
   "metadata": {
    "autoscroll": false,
    "collapsed": false,
    "ein.hycell": false,
    "ein.tags": "worksheet-0",
    "slideshow": {
     "slide_type": "-"
    }
   },
   "outputs": [
    {
     "data": {
      "text/plain": [
       "{2018: [{'title': 'A', 'year': 2018, 'style': 'short', 'genres': ['g1']},\n",
       "  {'title': 'B', 'year': 2018, 'style': 'long', 'genres': ['g2']}],\n",
       " 2019: [{'title': 'C', 'year': 2019, 'style': 'short', 'genres': ['g3']},\n",
       "  {'title': 'D', 'year': 2019, 'style': 'long', 'genres': ['g1', 'g2', 'g3']}]}"
      ]
     },
     "execution_count": 24,
     "metadata": {},
     "output_type": "execute_result"
    }
   ],
   "source": [
    "#q22\n",
    "bucketize(test_movies,\"year\")"
   ]
  },
  {
   "cell_type": "code",
   "execution_count": 25,
   "metadata": {
    "autoscroll": false,
    "collapsed": false,
    "ein.hycell": false,
    "ein.tags": "worksheet-0",
    "slideshow": {
     "slide_type": "-"
    }
   },
   "outputs": [
    {
     "data": {
      "text/plain": [
       "{'g1': [{'title': 'A', 'year': 2018, 'style': 'short', 'genres': ['g1']},\n",
       "  {'title': 'D', 'year': 2019, 'style': 'long', 'genres': ['g1', 'g2', 'g3']}],\n",
       " 'g2': [{'title': 'B', 'year': 2018, 'style': 'long', 'genres': ['g2']},\n",
       "  {'title': 'D', 'year': 2019, 'style': 'long', 'genres': ['g1', 'g2', 'g3']}],\n",
       " 'g3': [{'title': 'C', 'year': 2019, 'style': 'short', 'genres': ['g3']},\n",
       "  {'title': 'D', 'year': 2019, 'style': 'long', 'genres': ['g1', 'g2', 'g3']}]}"
      ]
     },
     "execution_count": 25,
     "metadata": {},
     "output_type": "execute_result"
    }
   ],
   "source": [
    "#q23\n",
    "bucketize(test_movies,\"genres\")"
   ]
  },
  {
   "cell_type": "code",
   "execution_count": 26,
   "metadata": {
    "autoscroll": false,
    "collapsed": false,
    "ein.hycell": false,
    "ein.tags": "worksheet-0",
    "slideshow": {
     "slide_type": "-"
    }
   },
   "outputs": [
    {
     "data": {
      "text/plain": [
       "{'Crime': [{'title': 'Runaway Jury',\n",
       "   'year': 2003,\n",
       "   'rating': 7.1,\n",
       "   'directors': ['Gary Fleder'],\n",
       "   'actors': ['John Cusack', 'Gene Hackman', 'Dustin Hoffman'],\n",
       "   'genres': ['Crime', 'Drama', 'Thriller']},\n",
       "  {'title': 'Lethal Weapon',\n",
       "   'year': 1987,\n",
       "   'rating': 7.6,\n",
       "   'directors': ['Richard Donner'],\n",
       "   'actors': ['Mel Gibson', 'Danny Glover', 'Gary Busey', 'Mitchell Ryan'],\n",
       "   'genres': ['Action', 'Crime', 'Thriller']}],\n",
       " 'Drama': [{'title': 'Runaway Jury',\n",
       "   'year': 2003,\n",
       "   'rating': 7.1,\n",
       "   'directors': ['Gary Fleder'],\n",
       "   'actors': ['John Cusack', 'Gene Hackman', 'Dustin Hoffman'],\n",
       "   'genres': ['Crime', 'Drama', 'Thriller']}],\n",
       " 'Thriller': [{'title': 'Runaway Jury',\n",
       "   'year': 2003,\n",
       "   'rating': 7.1,\n",
       "   'directors': ['Gary Fleder'],\n",
       "   'actors': ['John Cusack', 'Gene Hackman', 'Dustin Hoffman'],\n",
       "   'genres': ['Crime', 'Drama', 'Thriller']},\n",
       "  {'title': 'Lethal Weapon',\n",
       "   'year': 1987,\n",
       "   'rating': 7.6,\n",
       "   'directors': ['Richard Donner'],\n",
       "   'actors': ['Mel Gibson', 'Danny Glover', 'Gary Busey', 'Mitchell Ryan'],\n",
       "   'genres': ['Action', 'Crime', 'Thriller']}],\n",
       " 'Action': [{'title': 'Lethal Weapon',\n",
       "   'year': 1987,\n",
       "   'rating': 7.6,\n",
       "   'directors': ['Richard Donner'],\n",
       "   'actors': ['Mel Gibson', 'Danny Glover', 'Gary Busey', 'Mitchell Ryan'],\n",
       "   'genres': ['Action', 'Crime', 'Thriller']}]}"
      ]
     },
     "execution_count": 26,
     "metadata": {},
     "output_type": "execute_result"
    }
   ],
   "source": [
    "#q24\n",
    "bucketize(small,\"genres\")"
   ]
  },
  {
   "cell_type": "code",
   "execution_count": 27,
   "metadata": {
    "autoscroll": false,
    "collapsed": false,
    "ein.hycell": false,
    "ein.tags": "worksheet-0",
    "slideshow": {
     "slide_type": "-"
    }
   },
   "outputs": [
    {
     "data": {
      "text/plain": [
       "2"
      ]
     },
     "execution_count": 27,
     "metadata": {},
     "output_type": "execute_result"
    }
   ],
   "source": [
    "#q25\n",
    "len(bucketize(small,\"directors\"))"
   ]
  },
  {
   "cell_type": "code",
   "execution_count": 28,
   "metadata": {
    "autoscroll": false,
    "collapsed": false,
    "ein.hycell": false,
    "ein.tags": "worksheet-0",
    "slideshow": {
     "slide_type": "-"
    }
   },
   "outputs": [
    {
     "data": {
      "text/plain": [
       "1247"
      ]
     },
     "execution_count": 28,
     "metadata": {},
     "output_type": "execute_result"
    }
   ],
   "source": [
    "#q26\n",
    "len(bucketize(movies,\"directors\"))"
   ]
  },
  {
   "cell_type": "code",
   "execution_count": 29,
   "metadata": {
    "autoscroll": false,
    "collapsed": false,
    "ein.hycell": false,
    "ein.tags": "worksheet-0",
    "slideshow": {
     "slide_type": "-"
    }
   },
   "outputs": [
    {
     "data": {
      "text/plain": [
       "{'Comedy': 485,\n",
       " 'Drama': 1094,\n",
       " 'Romance': 352,\n",
       " 'History': 73,\n",
       " 'Family': 85,\n",
       " 'Mystery': 121,\n",
       " 'Thriller': 250,\n",
       " 'Action': 299,\n",
       " 'Crime': 357,\n",
       " 'Adventure': 283,\n",
       " 'Western': 226,\n",
       " 'Music': 38,\n",
       " 'Animation': 45,\n",
       " 'Sport': 48,\n",
       " 'Fantasy': 59,\n",
       " 'War': 99,\n",
       " 'Sci-Fi': 69,\n",
       " 'Horror': 85}"
      ]
     },
     "execution_count": 29,
     "metadata": {},
     "output_type": "execute_result"
    }
   ],
   "source": [
    "#q27\n",
    "genrebuckets = bucketize(movies,\"genres\")\n",
    "genrecensus = {}\n",
    "\n",
    "for i in genrebuckets.keys():\n",
    "    genrecensus[i] = len(genrebuckets[i])\n",
    "genrecensus"
   ]
  },
  {
   "cell_type": "code",
   "execution_count": 30,
   "metadata": {
    "autoscroll": false,
    "collapsed": false,
    "ein.hycell": false,
    "ein.tags": "worksheet-0",
    "slideshow": {
     "slide_type": "-"
    }
   },
   "outputs": [],
   "source": [
    "import matplotlib.pyplot\n",
    "\n",
    "# Here be some questions involving plotting that I'm not going to deal with anytime soon."
   ]
  },
  {
   "cell_type": "code",
   "execution_count": 31,
   "metadata": {
    "autoscroll": false,
    "collapsed": false,
    "ein.hycell": false,
    "ein.tags": "worksheet-0",
    "slideshow": {
     "slide_type": "-"
    }
   },
   "outputs": [
    {
     "data": {
      "text/plain": [
       "{'Robert De Niro': 49,\n",
       " 'Kurt Russell': 50,\n",
       " 'John Wayne': 46,\n",
       " 'Mickey Rooney': 75,\n",
       " 'Robert Mitchum': 51,\n",
       " 'Henry Fonda': 46,\n",
       " 'Glenn Ford': 52,\n",
       " 'Jeff Bridges': 48,\n",
       " 'James Caan': 52,\n",
       " 'Anthony Quinn': 61,\n",
       " 'Marlon Brando': 49,\n",
       " 'Tony Curtis': 45,\n",
       " 'Ernest Borgnine': 47,\n",
       " 'Rod Steiger': 45,\n",
       " 'George Burns': 60,\n",
       " 'Bruce Dern': 45,\n",
       " 'Dean Stockwell': 53}"
      ]
     },
     "execution_count": 31,
     "metadata": {},
     "output_type": "execute_result"
    }
   ],
   "source": [
    "#q32\n",
    "def years(buckets, actor):\n",
    "    movies = buckets[actor]\n",
    "    years = []\n",
    "\n",
    "    for i in movies:\n",
    "        years.append(i[\"year\"])\n",
    "    diff = max(years) - min(years)\n",
    "    return diff\n",
    "\n",
    "q32dict = {}\n",
    "actorbuckets = bucketize(movies,\"actors\")\n",
    "\n",
    "for i in actorbuckets:\n",
    "    if years(actorbuckets,i) < 45:\n",
    "        continue\n",
    "    q32dict[i] = years(actorbuckets,i)\n",
    "q32dict"
   ]
  },
  {
   "cell_type": "code",
   "execution_count": 32,
   "metadata": {
    "autoscroll": false,
    "collapsed": false,
    "ein.hycell": false,
    "ein.tags": "worksheet-0",
    "slideshow": {
     "slide_type": "-"
    }
   },
   "outputs": [
    {
     "data": {
      "text/plain": [
       "{'Howard Hawks': 42,\n",
       " 'Charles Chaplin': 34,\n",
       " 'J. Lee Thompson': 28,\n",
       " 'Henry Hathaway': 36,\n",
       " 'John Ford': 25,\n",
       " 'Stanley Kubrick': 46,\n",
       " 'Taylor Hackford': 32,\n",
       " 'Cecil B. DeMille': 30,\n",
       " 'Lee H. Katzin': 30,\n",
       " 'John Sturges': 25,\n",
       " 'Richard Fleischer': 32,\n",
       " 'Don Siegel': 27,\n",
       " 'Sidney Lumet': 33,\n",
       " 'George Sherman': 33,\n",
       " 'John Huston': 30,\n",
       " 'Burt Kennedy': 25,\n",
       " 'William A. Graham': 25,\n",
       " 'Richard Thorpe': 29,\n",
       " 'Robert Siodmak': 30,\n",
       " 'Eldar Ryazanov': 31,\n",
       " 'Martin Ritt': 32}"
      ]
     },
     "execution_count": 32,
     "metadata": {},
     "output_type": "execute_result"
    }
   ],
   "source": [
    "#q33\n",
    "directorbuckets = bucketize(movies,\"directors\")\n",
    "q33dict = {}\n",
    "\n",
    "for i in directorbuckets:\n",
    "    if years(directorbuckets,i) < 25:\n",
    "        continue\n",
    "    q33dict[i] = years(directorbuckets,i)\n",
    "q33dict"
   ]
  },
  {
   "cell_type": "code",
   "execution_count": 33,
   "metadata": {
    "autoscroll": false,
    "collapsed": false,
    "ein.hycell": false,
    "ein.tags": "worksheet-0",
    "slideshow": {
     "slide_type": "-"
    }
   },
   "outputs": [
    {
     "data": {
      "text/plain": [
       "[{'name': 'Mickey Rooney', 'span': 75},\n",
       " {'name': 'Anthony Quinn', 'span': 61},\n",
       " {'name': 'George Burns', 'span': 60},\n",
       " {'name': 'Dean Stockwell', 'span': 53},\n",
       " {'name': 'Glenn Ford', 'span': 52},\n",
       " {'name': 'James Caan', 'span': 52},\n",
       " {'name': 'Robert Mitchum', 'span': 51},\n",
       " {'name': 'Kurt Russell', 'span': 50},\n",
       " {'name': 'Robert De Niro', 'span': 49},\n",
       " {'name': 'Marlon Brando', 'span': 49}]"
      ]
     },
     "execution_count": 33,
     "metadata": {},
     "output_type": "execute_result"
    }
   ],
   "source": [
    "#q34\n",
    "q34dict = q32dict.copy()\n",
    "q34list = []\n",
    "\n",
    "while len(q34list) < 10:\n",
    "    maxyears = max(q34dict.values())\n",
    "    for i in q34dict:\n",
    "        if q34dict[i] == maxyears:\n",
    "\n",
    "            q34list.append(\n",
    "                {\n",
    "                    \"name\":i,\n",
    "                    \"span\":q34dict[i]\n",
    "                }\n",
    "            )\n",
    "            \n",
    "            q34dict.pop(i)\n",
    "            break\n",
    "q34list"
   ]
  },
  {
   "cell_type": "code",
   "execution_count": 34,
   "metadata": {
    "autoscroll": false,
    "collapsed": false,
    "ein.hycell": false,
    "ein.tags": "worksheet-0",
    "slideshow": {
     "slide_type": "-"
    }
   },
   "outputs": [
    {
     "data": {
      "text/plain": [
       "[{'name': 'Stanley Kubrick', 'span': 46},\n",
       " {'name': 'Howard Hawks', 'span': 42},\n",
       " {'name': 'Henry Hathaway', 'span': 36},\n",
       " {'name': 'Charles Chaplin', 'span': 34},\n",
       " {'name': 'Sidney Lumet', 'span': 33},\n",
       " {'name': 'George Sherman', 'span': 33},\n",
       " {'name': 'Taylor Hackford', 'span': 32},\n",
       " {'name': 'Richard Fleischer', 'span': 32},\n",
       " {'name': 'Martin Ritt', 'span': 32},\n",
       " {'name': 'Eldar Ryazanov', 'span': 31},\n",
       " {'name': 'Cecil B. DeMille', 'span': 30},\n",
       " {'name': 'Lee H. Katzin', 'span': 30},\n",
       " {'name': 'John Huston', 'span': 30},\n",
       " {'name': 'Robert Siodmak', 'span': 30},\n",
       " {'name': 'Richard Thorpe', 'span': 29},\n",
       " {'name': 'J. Lee Thompson', 'span': 28},\n",
       " {'name': 'Don Siegel', 'span': 27},\n",
       " {'name': 'John Ford', 'span': 25},\n",
       " {'name': 'John Sturges', 'span': 25},\n",
       " {'name': 'Burt Kennedy', 'span': 25},\n",
       " {'name': 'William A. Graham', 'span': 25}]"
      ]
     },
     "execution_count": 34,
     "metadata": {},
     "output_type": "execute_result"
    }
   ],
   "source": [
    "#q35\n",
    "def rowRank(row):\n",
    "    return row[\"span\"]\n",
    "\n",
    "def topSpans(spans, n):\n",
    "    rows = []\n",
    "    for name in spans:\n",
    "        span = spans[name]\n",
    "        rows.append({\"name\":name,\"span\":span})\n",
    "        rows.sort(key=rowRank, reverse=True)\n",
    "    return rows[:n]\n",
    "topSpans(q33dict,21)"
   ]
  },
  {
   "cell_type": "code",
   "execution_count": 35,
   "metadata": {
    "autoscroll": false,
    "collapsed": false,
    "ein.hycell": false,
    "ein.tags": "worksheet-0",
    "slideshow": {
     "slide_type": "-"
    }
   },
   "outputs": [
    {
     "data": {
      "text/plain": [
       "[{'name': 'Heath Ledger', 'rating': 9.0, 'count': 1},\n",
       " {'name': 'John Fiedler', 'rating': 8.9, 'count': 1},\n",
       " {'name': 'Aldo Giuffrè', 'rating': 8.9, 'count': 1},\n",
       " {'name': 'Steven Williams', 'rating': 8.8, 'count': 1},\n",
       " {'name': 'Daniel Roebuck', 'rating': 8.8, 'count': 1},\n",
       " {'name': 'Joseph Gordon-Levitt', 'rating': 8.8, 'count': 1},\n",
       " {'name': 'Miyu Irino', 'rating': 8.6, 'count': 1},\n",
       " {'name': 'Andrew Kevin Walker', 'rating': 8.6, 'count': 1},\n",
       " {'name': 'Ken Watanabe', 'rating': 8.55, 'count': 2}]"
      ]
     },
     "execution_count": 35,
     "metadata": {},
     "output_type": "execute_result"
    }
   ],
   "source": [
    "#q36\n",
    "def medianRating(buckets, person):\n",
    "    filmList = buckets[person]\n",
    "    ratings = []\n",
    "\n",
    "    for film in filmList:\n",
    "        ratings.append(film[\"rating\"])\n",
    "    return median(ratings)\n",
    "\n",
    "def bestRank(row):\n",
    "    return row[\"rating\"]\n",
    "def best(bucket, n=-1):\n",
    "    med = {} # short for median\n",
    "    rows = []\n",
    "    \n",
    "    for name in bucket:\n",
    "        med[name] = medianRating(bucket,name)\n",
    "\n",
    "    for name in med:\n",
    "        rating = med[name]\n",
    "        rows.append({\"name\":name,\"rating\":rating,\"count\":len(bucket[name])})\n",
    "        rows.sort(key=bestRank, reverse=True)\n",
    "    return rows[:n]\n",
    "        \n",
    "bestActors = best(actorbuckets)\n",
    "bestActors[:9]"
   ]
  },
  {
   "cell_type": "code",
   "execution_count": 36,
   "metadata": {
    "autoscroll": false,
    "collapsed": false,
    "ein.hycell": false,
    "ein.tags": "worksheet-0",
    "slideshow": {
     "slide_type": "-"
    }
   },
   "outputs": [
    {
     "data": {
      "text/plain": [
       "[{'name': 'James Marlowe', 'rating': 8.8, 'count': 1},\n",
       " {'name': 'Kirk Wise', 'rating': 8.6, 'count': 1},\n",
       " {'name': 'David Fincher', 'rating': 8.6, 'count': 1},\n",
       " {'name': 'Christopher Nolan', 'rating': 8.5, 'count': 9},\n",
       " {'name': 'Leonid Gayday', 'rating': 8.4, 'count': 5},\n",
       " {'name': 'Adrian Molina', 'rating': 8.4, 'count': 1},\n",
       " {'name': 'Stanley Kubrick', 'rating': 8.3, 'count': 11},\n",
       " {'name': 'Sergio Leone', 'rating': 8.3, 'count': 7},\n",
       " {'name': 'Satyajit Ray', 'rating': 8.2, 'count': 9},\n",
       " {'name': 'Moustapha Akkad', 'rating': 8.2, 'count': 1},\n",
       " {'name': 'Andrew Grieve', 'rating': 8.2, 'count': 6},\n",
       " {'name': 'Danny Boyle', 'rating': 8.2, 'count': 1}]"
      ]
     },
     "execution_count": 36,
     "metadata": {},
     "output_type": "execute_result"
    }
   ],
   "source": [
    "#q37\n",
    "bestDirectors = best(directorbuckets)\n",
    "bestDirectors[:12]"
   ]
  },
  {
   "cell_type": "code",
   "execution_count": 37,
   "metadata": {
    "autoscroll": false,
    "collapsed": false,
    "ein.hycell": false,
    "ein.tags": "worksheet-0",
    "slideshow": {
     "slide_type": "-"
    }
   },
   "outputs": [
    {
     "data": {
      "text/plain": [
       "[{'name': 'Henry Bergman', 'rating': 8.2, 'count': 5},\n",
       " {'name': 'Ioan Gruffudd', 'rating': 8.2, 'count': 6},\n",
       " {'name': 'Robert Lindsay', 'rating': 8.2, 'count': 6},\n",
       " {'name': 'Charles Chaplin', 'rating': 8.149999999999999, 'count': 10},\n",
       " {'name': 'Bradley Cooper', 'rating': 7.3, 'count': 5},\n",
       " {'name': 'Joe Pesci', 'rating': 7.2, 'count': 7},\n",
       " {'name': 'Robin Williams', 'rating': 7.2, 'count': 5},\n",
       " {'name': 'Kirk Douglas', 'rating': 7.15, 'count': 12},\n",
       " {'name': 'Ward Bond', 'rating': 7.1, 'count': 10},\n",
       " {'name': 'Gregory Peck', 'rating': 7.1, 'count': 5},\n",
       " {'name': 'Tom Hanks', 'rating': 7.1, 'count': 6},\n",
       " {'name': 'Al Pacino', 'rating': 7.050000000000001, 'count': 8},\n",
       " {'name': 'Ben Johnson', 'rating': 7.050000000000001, 'count': 6},\n",
       " {'name': 'Charles Coburn', 'rating': 7.0, 'count': 9}]"
      ]
     },
     "execution_count": 37,
     "metadata": {},
     "output_type": "execute_result"
    }
   ],
   "source": [
    "#q38\n",
    "q38list = bestActors.copy()\n",
    "q38results = []\n",
    "for name in q38list:\n",
    "    if name[\"count\"] >= 5:\n",
    "        q38results.append(name)\n",
    "q38results[:14]"
   ]
  },
  {
   "cell_type": "code",
   "execution_count": 85,
   "metadata": {
    "autoscroll": false,
    "collapsed": false,
    "ein.hycell": false,
    "ein.tags": "worksheet-0",
    "slideshow": {
     "slide_type": "-"
    }
   },
   "outputs": [],
   "source": []
  },
  {
   "cell_type": "code",
   "execution_count": null,
   "metadata": {
    "autoscroll": false,
    "collapsed": false,
    "ein.hycell": false,
    "ein.tags": "worksheet-0",
    "slideshow": {
     "slide_type": "-"
    }
   },
   "outputs": [],
   "source": []
  }
 ],
 "metadata": {
  "kernelspec": {
   "argv": [
    "/usr/bin/python3",
    "-m",
    "ipykernel_launcher",
    "-f",
    "{connection_file}"
   ],
   "display_name": "Python 3",
   "env": null,
   "interrupt_mode": "signal",
   "language": "python",
   "metadata": null,
   "name": "python3"
  },
  "language_info": {
   "codemirror_mode": {
    "name": "ipython",
    "version": 3
   },
   "file_extension": ".py",
   "mimetype": "text/x-python",
   "name": "python",
   "nbconvert_exporter": "python",
   "pygments_lexer": "ipython3",
   "version": "3.7.3"
  },
  "name": "main.ipynb"
 },
 "nbformat": 4,
 "nbformat_minor": 2
}
