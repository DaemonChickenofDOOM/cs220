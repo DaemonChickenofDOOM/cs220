{
 "cells": [
  {
   "cell_type": "code",
   "execution_count": 2,
   "metadata": {
    "autoscroll": false,
    "collapsed": false,
    "ein.hycell": false,
    "ein.tags": "worksheet-0",
    "slideshow": {
     "slide_type": "-"
    }
   },
   "outputs": [],
   "source": [
    "import csv\n",
    "from csv import *\n",
    "import statistics\n",
    "from statistics import *\n",
    "def process_csv(filename):\n",
    "    exampleFile = open(filename, encoding=\"utf-8\")\n",
    "    exampleReader = csv.reader(exampleFile)\n",
    "    exampleData = list(exampleReader)\n",
    "    exampleFile.close()\n",
    "    return exampleData"
   ]
  },
  {
   "cell_type": "code",
   "execution_count": 95,
   "metadata": {
    "autoscroll": false,
    "collapsed": false,
    "ein.hycell": false,
    "ein.tags": "worksheet-0",
    "slideshow": {
     "slide_type": "-"
    }
   },
   "outputs": [],
   "source": [
    "def get_mapping(filename):\n",
    "    test = process_csv(filename)\n",
    "    lookup = {}\n",
    "    for row in test:\n",
    "        lookup[row[0]] = row[1]\n",
    "    return lookup\n",
    "\n",
    "def get_raw_movies(filename):\n",
    "\n",
    "    base = process_csv(filename)\n",
    "    head = base[0]\n",
    "    data = base[1:]\n",
    "    mov = []\n",
    "\n",
    "    for j in range(len(data)):\n",
    "        datum = {}\n",
    "        for i in head:\n",
    "            if i in [\"directors\", \"actors\", \"genres\"]:\n",
    "                datum[i] = data[j][head.index(i)].split(\",\")\n",
    "            elif i == \"year\":\n",
    "                datum[i] = int(data[j][head.index(i)])\n",
    "            elif i == \"rating\":\n",
    "                datum[i] = float(data[j][head.index(i)])\n",
    "            else:\n",
    "                datum[i] = data[j][head.index(i)]\n",
    "        mov.append(datum)\n",
    "    return mov\n",
    "\n",
    "def get_movies(movies_path, mapping_path):\n",
    "    mov = get_raw_movies(movies_path)\n",
    "    mapping = get_mapping(mapping_path)\n",
    "\n",
    "    for i in mov:\n",
    "        i[\"title\"] = mapping[i[\"title\"]]\n",
    "        dirList = []\n",
    "        for j in i[\"directors\"]:\n",
    "            dirList.append(mapping[j])\n",
    "        i[\"directors\"] = dirList\n",
    "        actList = []\n",
    "        for k in i[\"actors\"]:\n",
    "            actList.append(mapping[k])\n",
    "        i[\"actors\"] = actList\n",
    "    return mov\n",
    "\n",
    "# Function provided by project8, donut touch\n",
    "def filter_movies_by_year(movies, year):\n",
    "    i = 0\n",
    "    while i < len(movies):\n",
    "        if movies[i][\"year\"] != year:\n",
    "            movies.pop(i)\n",
    "        else:\n",
    "            i += 1\n",
    "    return movies\n",
    "\n",
    "def hits(movies,section,dump=False):\n",
    "    data = []\n",
    "    for i in movies:\n",
    "        for j in i[section]:\n",
    "            if j in data:\n",
    "                continue\n",
    "            data.append(j)\n",
    "    if dump:\n",
    "        return data\n",
    "    else:\n",
    "        return len(data)\n",
    "\n",
    "def dump(movies,section,dedupe=False):\n",
    "    data = []\n",
    "    for i in movies:\n",
    "        if i[section] not in data and not dedupe:\n",
    "            data.append(i[section])\n",
    "        elif dedupe:\n",
    "            data.append(i[section])\n",
    "    return data"
   ]
  },
  {
   "cell_type": "code",
   "execution_count": 4,
   "metadata": {
    "autoscroll": false,
    "collapsed": false,
    "ein.hycell": false,
    "ein.tags": "worksheet-0",
    "slideshow": {
     "slide_type": "-"
    }
   },
   "outputs": [
    {
     "data": {
      "text/plain": [
       "{'nm0000131': 'John Cusack',\n 'nm0000154': 'Mel Gibson',\n 'nm0000163': 'Dustin Hoffman',\n 'nm0000418': 'Danny Glover',\n 'nm0000432': 'Gene Hackman',\n 'nm0000997': 'Gary Busey',\n 'nm0001149': 'Richard Donner',\n 'nm0001219': 'Gary Fleder',\n 'nm0752751': 'Mitchell Ryan',\n 'tt0313542': 'Runaway Jury',\n 'tt0093409': 'Lethal Weapon'}"
      ]
     },
     "execution_count": 4,
     "metadata": {},
     "output_type": "execute_result"
    }
   ],
   "source": [
    "#q1\n",
    "smap = get_mapping(\"small_mapping.csv\")\n",
    "smap"
   ]
  },
  {
   "cell_type": "code",
   "execution_count": 5,
   "metadata": {
    "autoscroll": false,
    "collapsed": false,
    "ein.hycell": false,
    "ein.tags": "worksheet-0",
    "slideshow": {
     "slide_type": "-"
    }
   },
   "outputs": [
    {
     "data": {
      "text/plain": [
       "'Gary Fleder'"
      ]
     },
     "execution_count": 5,
     "metadata": {},
     "output_type": "execute_result"
    }
   ],
   "source": [
    "#q2\n",
    "smap[\"nm0001219\"]"
   ]
  },
  {
   "cell_type": "code",
   "execution_count": 6,
   "metadata": {
    "autoscroll": false,
    "collapsed": false,
    "ein.hycell": false,
    "ein.tags": "worksheet-0",
    "slideshow": {
     "slide_type": "-"
    }
   },
   "outputs": [
    {
     "data": {
      "text/plain": [
       "['John Cusack',\n 'Mel Gibson',\n 'Dustin Hoffman',\n 'Danny Glover',\n 'Gene Hackman',\n 'Gary Busey',\n 'Richard Donner',\n 'Gary Fleder',\n 'Mitchell Ryan']"
      ]
     },
     "execution_count": 6,
     "metadata": {},
     "output_type": "execute_result"
    }
   ],
   "source": [
    "#q3\n",
    "names = []\n",
    "for i in list(smap):\n",
    "    if i[0] =='n':\n",
    "        names.append(smap[i])\n",
    "names"
   ]
  },
  {
   "cell_type": "code",
   "execution_count": 7,
   "metadata": {
    "autoscroll": false,
    "collapsed": false,
    "ein.hycell": false,
    "ein.tags": "worksheet-0",
    "slideshow": {
     "slide_type": "-"
    }
   },
   "outputs": [
    {
     "data": {
      "text/plain": [
       "['nm0000154', 'nm0000418']"
      ]
     },
     "execution_count": 7,
     "metadata": {},
     "output_type": "execute_result"
    }
   ],
   "source": [
    "#q4\n",
    "q4list = []\n",
    "q4list2 = []\n",
    "for i in names:\n",
    "    if \" G\" in i:\n",
    "        q4list.append(i)\n",
    "for i in q4list:\n",
    "    for j in list(smap):\n",
    "        if smap[j] == i:\n",
    "            q4list2.append(j)\n",
    "q4list2"
   ]
  },
  {
   "cell_type": "code",
   "execution_count": 8,
   "metadata": {
    "autoscroll": false,
    "collapsed": false,
    "ein.hycell": false,
    "ein.tags": "worksheet-0",
    "slideshow": {
     "slide_type": "-"
    }
   },
   "outputs": [
    {
     "data": {
      "text/plain": [
       "[{'title': 'tt0313542',\n  'year': 2003,\n  'rating': 7.1,\n  'directors': ['nm0001219'],\n  'actors': ['nm0000131', 'nm0000432', 'nm0000163'],\n  'genres': ['Crime', 'Drama', 'Thriller']},\n {'title': 'tt0093409',\n  'year': 1987,\n  'rating': 7.6,\n  'directors': ['nm0001149'],\n  'actors': ['nm0000154', 'nm0000418', 'nm0000997', 'nm0752751'],\n  'genres': ['Action', 'Crime', 'Thriller']}]"
      ]
     },
     "execution_count": 8,
     "metadata": {},
     "output_type": "execute_result"
    }
   ],
   "source": [
    "#q5\n",
    "smov = get_raw_movies(\"small_movies.csv\")\n",
    "smov"
   ]
  },
  {
   "cell_type": "code",
   "execution_count": 9,
   "metadata": {
    "autoscroll": false,
    "collapsed": false,
    "ein.hycell": false,
    "ein.tags": "worksheet-0",
    "slideshow": {
     "slide_type": "-"
    }
   },
   "outputs": [
    {
     "data": {
      "text/plain": [
       "4"
      ]
     },
     "execution_count": 9,
     "metadata": {},
     "output_type": "execute_result"
    }
   ],
   "source": [
    "#q6\n",
    "len(smov[1][\"actors\"])"
   ]
  },
  {
   "cell_type": "code",
   "execution_count": 10,
   "metadata": {
    "autoscroll": false,
    "collapsed": false,
    "ein.hycell": false,
    "ein.tags": "worksheet-0",
    "slideshow": {
     "slide_type": "-"
    }
   },
   "outputs": [
    {
     "data": {
      "text/plain": [
       "'nm0000131'"
      ]
     },
     "execution_count": 10,
     "metadata": {},
     "output_type": "execute_result"
    }
   ],
   "source": [
    "#q7\n",
    "smov[0][\"actors\"][0]"
   ]
  },
  {
   "cell_type": "code",
   "execution_count": 11,
   "metadata": {
    "autoscroll": false,
    "collapsed": false,
    "ein.hycell": false,
    "ein.tags": "worksheet-0",
    "slideshow": {
     "slide_type": "-"
    }
   },
   "outputs": [
    {
     "data": {
      "text/plain": [
       "'Lethal Weapon'"
      ]
     },
     "execution_count": 11,
     "metadata": {},
     "output_type": "execute_result"
    }
   ],
   "source": [
    "#q8\n",
    "small = get_movies(\"small_movies.csv\", \"small_mapping.csv\")\n",
    "movies = get_movies(\"movies.csv\", \"mapping.csv\")\n",
    "small[1][\"title\"]"
   ]
  },
  {
   "cell_type": "code",
   "execution_count": 12,
   "metadata": {
    "autoscroll": false,
    "collapsed": false,
    "ein.hycell": false,
    "ein.tags": "worksheet-0",
    "slideshow": {
     "slide_type": "-"
    }
   },
   "outputs": [
    {
     "data": {
      "text/plain": [
       "['John Cusack', 'Gene Hackman', 'Dustin Hoffman']"
      ]
     },
     "execution_count": 12,
     "metadata": {},
     "output_type": "execute_result"
    }
   ],
   "source": [
    "#q9\n",
    "small[0][\"actors\"]"
   ]
  },
  {
   "cell_type": "code",
   "execution_count": 13,
   "metadata": {
    "autoscroll": false,
    "collapsed": false,
    "ein.hycell": false,
    "ein.tags": "worksheet-0",
    "slideshow": {
     "slide_type": "-"
    }
   },
   "outputs": [
    {
     "data": {
      "text/plain": [
       "['Richard Donner']"
      ]
     },
     "execution_count": 13,
     "metadata": {},
     "output_type": "execute_result"
    }
   ],
   "source": [
    "#q10\n",
    "small[-1][\"directors\"]"
   ]
  },
  {
   "cell_type": "code",
   "execution_count": 14,
   "metadata": {
    "autoscroll": false,
    "collapsed": false,
    "ein.hycell": false,
    "ein.tags": "worksheet-0",
    "slideshow": {
     "slide_type": "-"
    }
   },
   "outputs": [
    {
     "data": {
      "text/plain": [
       "[{'title': 'Fortitude and Glory: Angelo Dundee and His Fighters',\n  'year': 2012,\n  'rating': 7.2,\n  'directors': ['Chris Tasara'],\n  'actors': ['Angelo Dundee', 'George Foreman', 'Freddie Roach'],\n  'genres': ['Sport']},\n {'title': 'Ivanhoe',\n  'year': 1952,\n  'rating': 6.8,\n  'directors': ['Richard Thorpe'],\n  'actors': ['Robert Taylor', 'George Sanders'],\n  'genres': ['Adventure', 'Drama', 'History']},\n {'title': 'The Great Gatsby',\n  'year': 1949,\n  'rating': 6.6,\n  'directors': ['Elliott Nugent'],\n  'actors': ['Alan Ladd', 'Macdonald Carey'],\n  'genres': ['Drama']}]"
      ]
     },
     "execution_count": 14,
     "metadata": {},
     "output_type": "execute_result"
    }
   ],
   "source": [
    "#q11\n",
    "movies[-3:]"
   ]
  },
  {
   "cell_type": "code",
   "execution_count": 15,
   "metadata": {
    "autoscroll": false,
    "collapsed": false,
    "ein.hycell": false,
    "ein.tags": "worksheet-0",
    "slideshow": {
     "slide_type": "-"
    }
   },
   "outputs": [
    {
     "data": {
      "text/plain": [
       "[{'title': 'The Big Wedding',\n  'year': 2013,\n  'rating': 5.6,\n  'directors': ['Justin Zackham'],\n  'actors': ['Robert De Niro'],\n  'genres': ['Comedy', 'Drama', 'Romance']},\n {'title': 'The Affair of the Necklace',\n  'year': 2001,\n  'rating': 6.1,\n  'directors': ['Charles Shyer'],\n  'actors': ['Simon Baker', 'Jonathan Pryce', 'Adrien Brody'],\n  'genres': ['Drama', 'History', 'Romance']}]"
      ]
     },
     "execution_count": 15,
     "metadata": {},
     "output_type": "execute_result"
    }
   ],
   "source": [
    "#q12\n",
    "movies[0:2]"
   ]
  },
  {
   "cell_type": "code",
   "execution_count": 16,
   "metadata": {
    "autoscroll": false,
    "collapsed": false,
    "ein.hycell": false,
    "ein.tags": "worksheet-0",
    "slideshow": {
     "slide_type": "-"
    }
   },
   "outputs": [
    {
     "data": {
      "text/plain": [
       "[{'title': 'Redskin',\n  'year': 1929,\n  'rating': 7.0,\n  'directors': ['Victor Schertzinger'],\n  'actors': ['Richard Dix', 'Tully Marshall', 'George Regas'],\n  'genres': ['Adventure', 'Drama', 'Western']},\n {'title': 'The Girl in the Show',\n  'year': 1929,\n  'rating': 6.5,\n  'directors': ['Edgar Selwyn'],\n  'actors': ['Raymond Hackett', 'Edward J. Nugent'],\n  'genres': ['Comedy']},\n {'title': 'Atlantic',\n  'year': 1929,\n  'rating': 5.5,\n  'directors': ['Ewald André Dupont'],\n  'actors': ['Franklin Dyall', 'John Stuart'],\n  'genres': ['Drama']}]"
      ]
     },
     "execution_count": 16,
     "metadata": {},
     "output_type": "execute_result"
    }
   ],
   "source": [
    "#q13\n",
    "mov = movies.copy()\n",
    "filter_movies_by_year(mov,1929)"
   ]
  },
  {
   "cell_type": "code",
   "execution_count": 17,
   "metadata": {
    "autoscroll": false,
    "collapsed": false,
    "ein.hycell": false,
    "ein.tags": "worksheet-0",
    "slideshow": {
     "slide_type": "-"
    }
   },
   "outputs": [
    {
     "data": {
      "text/plain": [
       "[{'title': 'Arizona',\n  'year': 1931,\n  'rating': 6.0,\n  'directors': ['George B. Seitz'],\n  'actors': ['John Wayne', 'Forrest Stanley'],\n  'genres': ['Drama', 'Romance']},\n {'title': 'City Lights',\n  'year': 1931,\n  'rating': 8.5,\n  'directors': ['Charles Chaplin'],\n  'actors': ['Charles Chaplin', 'Harry Myers'],\n  'genres': ['Comedy', 'Drama', 'Romance']},\n {'title': 'The Range Feud',\n  'year': 1931,\n  'rating': 5.8,\n  'directors': ['D. Ross Lederman'],\n  'actors': ['Buck Jones', 'John Wayne', 'Edward LeSaint'],\n  'genres': ['Mystery', 'Western']}]"
      ]
     },
     "execution_count": 17,
     "metadata": {},
     "output_type": "execute_result"
    }
   ],
   "source": [
    "#q14\n",
    "mov = movies.copy()\n",
    "filter_movies_by_year(mov,1931)"
   ]
  },
  {
   "cell_type": "code",
   "execution_count": 18,
   "metadata": {
    "autoscroll": false,
    "collapsed": false,
    "ein.hycell": false,
    "ein.tags": "worksheet-0",
    "slideshow": {
     "slide_type": "-"
    }
   },
   "outputs": [
    {
     "data": {
      "text/plain": [
       "2605"
      ]
     },
     "execution_count": 18,
     "metadata": {},
     "output_type": "execute_result"
    }
   ],
   "source": [
    "#q15\n",
    "hits(movies,\"actors\")"
   ]
  },
  {
   "cell_type": "code",
   "execution_count": 19,
   "metadata": {
    "autoscroll": false,
    "collapsed": false,
    "ein.hycell": false,
    "ein.tags": "worksheet-0",
    "slideshow": {
     "slide_type": "-"
    }
   },
   "outputs": [
    {
     "data": {
      "text/plain": [
       "18"
      ]
     },
     "execution_count": 19,
     "metadata": {},
     "output_type": "execute_result"
    }
   ],
   "source": [
    "#q16\n",
    "hits(movies,\"genres\")"
   ]
  },
  {
   "cell_type": "code",
   "execution_count": 20,
   "metadata": {
    "autoscroll": false,
    "collapsed": false,
    "ein.hycell": false,
    "ein.tags": "worksheet-0",
    "slideshow": {
     "slide_type": "-"
    }
   },
   "outputs": [
    {
     "data": {
      "text/plain": [
       "'Zorba the Greek'"
      ]
     },
     "execution_count": 20,
     "metadata": {},
     "output_type": "execute_result"
    }
   ],
   "source": [
    "#q17\n",
    "titles = dump(movies,\"title\")\n",
    "sorted(titles)[-1]"
   ]
  },
  {
   "cell_type": "code",
   "execution_count": 94,
   "metadata": {
    "autoscroll": false,
    "collapsed": false,
    "ein.hycell": false,
    "ein.tags": "worksheet-0",
    "slideshow": {
     "slide_type": "-"
    }
   },
   "outputs": [
    {
     "data": {
      "text/plain": [
       "6.401659528907923"
      ]
     },
     "execution_count": 94,
     "metadata": {},
     "output_type": "execute_result"
    }
   ],
   "source": [
    "#q18\n",
    "ratings = dump(movies,\"rating\")\n",
    "mean(ratings)"
   ]
  },
  {
   "cell_type": "code",
   "execution_count": 22,
   "metadata": {
    "autoscroll": false,
    "collapsed": false,
    "ein.hycell": false,
    "ein.tags": "worksheet-0",
    "slideshow": {
     "slide_type": "-"
    }
   },
   "outputs": [
    {
     "data": {
      "text/plain": [
       "'The Godfather'"
      ]
     },
     "execution_count": 22,
     "metadata": {},
     "output_type": "execute_result"
    }
   ],
   "source": [
    "#q19\n",
    "for i in movies:\n",
    "    if i[\"rating\"] == max(ratings):\n",
    "        q19ans = i[\"title\"]\n",
    "q19ans"
   ]
  },
  {
   "cell_type": "code",
   "execution_count": 23,
   "metadata": {
    "autoscroll": false,
    "collapsed": false,
    "ein.hycell": false,
    "ein.tags": "worksheet-0",
    "slideshow": {
     "slide_type": "-"
    }
   },
   "outputs": [
    {
     "data": {
      "text/plain": [
       "'Shoulder Arms'"
      ]
     },
     "execution_count": 23,
     "metadata": {},
     "output_type": "execute_result"
    }
   ],
   "source": [
    "#q20\n",
    "mov = movies.copy()\n",
    "filter_movies_by_year(mov,min(dump(movies,\"year\")))[0][\"title\"]"
   ]
  },
  {
   "cell_type": "code",
   "execution_count": 69,
   "metadata": {
    "autoscroll": false,
    "collapsed": false,
    "ein.hycell": false,
    "ein.tags": "worksheet-0",
    "slideshow": {
     "slide_type": "-"
    }
   },
   "outputs": [
    {
     "data": {
      "text/plain": [
       "{'short': [{'title': 'A', 'year': 2018, 'style': 'short', 'genres': ['g1']},\n  {'title': 'C', 'year': 2019, 'style': 'short', 'genres': ['g3']}],\n 'long': [{'title': 'B', 'year': 2018, 'style': 'long', 'genres': ['g2']},\n  {'title': 'D', 'year': 2019, 'style': 'long', 'genres': ['g1', 'g2', 'g3']}]}"
      ]
     },
     "execution_count": 69,
     "metadata": {},
     "output_type": "execute_result"
    }
   ],
   "source": [
    "#q21\n",
    "def bucketize(movie_list, movie_key):\n",
    "    buckets = {}\n",
    "\n",
    "    if type(movie_list[0][movie_key]) == list:\n",
    "        bucketIdx = hits(movie_list,movie_key,True)\n",
    "        for i in bucketIdx:\n",
    "            contents = []\n",
    "\n",
    "            for j in movie_list:\n",
    "                if i in j[movie_key]:\n",
    "                    contents.append(j)\n",
    "            buckets[i] = contents\n",
    "    else:\n",
    "        bucketIdx = dump(movie_list,movie_key,True)\n",
    "       # for i in movie_list:\n",
    "            #if i[movie_key]\n",
    "        for i in bucketIdx:\n",
    "            contents = []\n",
    "\n",
    "            for j in movie_list:\n",
    "                if str(i).upper() == str(j[movie_key]).upper():\n",
    "                    contents.append(j)\n",
    "            buckets[i] = contents\n",
    "    return buckets\n",
    "test_movies = [\n",
    "{\"title\": \"A\", \"year\": 2018, \"style\": \"short\", \"genres\": [\"g1\"]},\n",
    "{\"title\": \"B\", \"year\": 2018, \"style\": \"long\",  \"genres\": [\"g2\"]},\n",
    "{\"title\": \"C\", \"year\": 2019, \"style\": \"short\", \"genres\": [\"g3\"]},\n",
    "{\"title\": \"D\", \"year\": 2019, \"style\": \"long\", \"genres\": [\"g1\", \"g2\", \"g3\"]},\n",
    "]\n",
    "bucketize(test_movies,\"style\")"
   ]
  },
  {
   "cell_type": "code",
   "execution_count": 70,
   "metadata": {
    "autoscroll": false,
    "collapsed": false,
    "ein.hycell": false,
    "ein.tags": "worksheet-0",
    "slideshow": {
     "slide_type": "-"
    }
   },
   "outputs": [
    {
     "data": {
      "text/plain": [
       "{2018: [{'title': 'A', 'year': 2018, 'style': 'short', 'genres': ['g1']},\n  {'title': 'B', 'year': 2018, 'style': 'long', 'genres': ['g2']}],\n 2019: [{'title': 'C', 'year': 2019, 'style': 'short', 'genres': ['g3']},\n  {'title': 'D', 'year': 2019, 'style': 'long', 'genres': ['g1', 'g2', 'g3']}]}"
      ]
     },
     "execution_count": 70,
     "metadata": {},
     "output_type": "execute_result"
    }
   ],
   "source": [
    "#q22\n",
    "bucketize(test_movies,\"year\")"
   ]
  },
  {
   "cell_type": "code",
   "execution_count": 71,
   "metadata": {
    "autoscroll": false,
    "collapsed": false,
    "ein.hycell": false,
    "ein.tags": "worksheet-0",
    "slideshow": {
     "slide_type": "-"
    }
   },
   "outputs": [
    {
     "data": {
      "text/plain": [
       "{'g1': [{'title': 'A', 'year': 2018, 'style': 'short', 'genres': ['g1']},\n  {'title': 'D', 'year': 2019, 'style': 'long', 'genres': ['g1', 'g2', 'g3']}],\n 'g2': [{'title': 'B', 'year': 2018, 'style': 'long', 'genres': ['g2']},\n  {'title': 'D', 'year': 2019, 'style': 'long', 'genres': ['g1', 'g2', 'g3']}],\n 'g3': [{'title': 'C', 'year': 2019, 'style': 'short', 'genres': ['g3']},\n  {'title': 'D', 'year': 2019, 'style': 'long', 'genres': ['g1', 'g2', 'g3']}]}"
      ]
     },
     "execution_count": 71,
     "metadata": {},
     "output_type": "execute_result"
    }
   ],
   "source": [
    "#q23\n",
    "bucketize(test_movies,\"genres\")"
   ]
  },
  {
   "cell_type": "code",
   "execution_count": 72,
   "metadata": {
    "autoscroll": false,
    "collapsed": false,
    "ein.hycell": false,
    "ein.tags": "worksheet-0",
    "slideshow": {
     "slide_type": "-"
    }
   },
   "outputs": [
    {
     "data": {
      "text/plain": [
       "{'Crime': [{'title': 'Runaway Jury',\n   'year': 2003,\n   'rating': 7.1,\n   'directors': ['Gary Fleder'],\n   'actors': ['John Cusack', 'Gene Hackman', 'Dustin Hoffman'],\n   'genres': ['Crime', 'Drama', 'Thriller']},\n  {'title': 'Lethal Weapon',\n   'year': 1987,\n   'rating': 7.6,\n   'directors': ['Richard Donner'],\n   'actors': ['Mel Gibson', 'Danny Glover', 'Gary Busey', 'Mitchell Ryan'],\n   'genres': ['Action', 'Crime', 'Thriller']}],\n 'Drama': [{'title': 'Runaway Jury',\n   'year': 2003,\n   'rating': 7.1,\n   'directors': ['Gary Fleder'],\n   'actors': ['John Cusack', 'Gene Hackman', 'Dustin Hoffman'],\n   'genres': ['Crime', 'Drama', 'Thriller']}],\n 'Thriller': [{'title': 'Runaway Jury',\n   'year': 2003,\n   'rating': 7.1,\n   'directors': ['Gary Fleder'],\n   'actors': ['John Cusack', 'Gene Hackman', 'Dustin Hoffman'],\n   'genres': ['Crime', 'Drama', 'Thriller']},\n  {'title': 'Lethal Weapon',\n   'year': 1987,\n   'rating': 7.6,\n   'directors': ['Richard Donner'],\n   'actors': ['Mel Gibson', 'Danny Glover', 'Gary Busey', 'Mitchell Ryan'],\n   'genres': ['Action', 'Crime', 'Thriller']}],\n 'Action': [{'title': 'Lethal Weapon',\n   'year': 1987,\n   'rating': 7.6,\n   'directors': ['Richard Donner'],\n   'actors': ['Mel Gibson', 'Danny Glover', 'Gary Busey', 'Mitchell Ryan'],\n   'genres': ['Action', 'Crime', 'Thriller']}]}"
      ]
     },
     "execution_count": 72,
     "metadata": {},
     "output_type": "execute_result"
    }
   ],
   "source": [
    "#q24\n",
    "bucketize(small,\"genres\")"
   ]
  },
  {
   "cell_type": "code",
   "execution_count": 76,
   "metadata": {
    "autoscroll": false,
    "collapsed": false,
    "ein.hycell": false,
    "ein.tags": "worksheet-0",
    "slideshow": {
     "slide_type": "-"
    }
   },
   "outputs": [
    {
     "data": {
      "text/plain": [
       "2"
      ]
     },
     "execution_count": 76,
     "metadata": {},
     "output_type": "execute_result"
    }
   ],
   "source": [
    "#q25\n",
    "len(bucketize(small,\"directors\"))"
   ]
  },
  {
   "cell_type": "code",
   "execution_count": 77,
   "metadata": {
    "autoscroll": false,
    "collapsed": false,
    "ein.hycell": false,
    "ein.tags": "worksheet-0",
    "slideshow": {
     "slide_type": "-"
    }
   },
   "outputs": [
    {
     "data": {
      "text/plain": [
       "1247"
      ]
     },
     "execution_count": 77,
     "metadata": {},
     "output_type": "execute_result"
    }
   ],
   "source": [
    "#q26\n",
    "len(bucketize(movies,\"directors\"))"
   ]
  },
  {
   "cell_type": "code",
   "execution_count": null,
   "metadata": {
    "autoscroll": false,
    "collapsed": false,
    "ein.hycell": false,
    "ein.tags": "worksheet-0",
    "slideshow": {
     "slide_type": "-"
    }
   },
   "outputs": [],
   "source": []
  }
 ],
 "metadata": {
  "kernelspec": {
   "argv": [
    "/usr/bin/python3",
    "-m",
    "ipykernel_launcher",
    "-f",
    "{connection_file}"
   ],
   "display_name": "Python 3",
   "env": null,
   "interrupt_mode": "signal",
   "language": "python",
   "metadata": null,
   "name": "python3"
  },
  "language_info": {
   "codemirror_mode": {
    "name": "ipython",
    "version": 3
   },
   "file_extension": ".py",
   "mimetype": "text/x-python",
   "name": "python",
   "nbconvert_exporter": "python",
   "pygments_lexer": "ipython3",
   "version": "3.7.3"
  },
  "name": "main.ipynb"
 },
 "nbformat": 4,
 "nbformat_minor": 2
}
