{
 "cells": [
  {
   "cell_type": "code",
   "execution_count": 3,
   "metadata": {
    "autoscroll": false,
    "collapsed": false,
    "ein.hycell": false,
    "ein.tags": "worksheet-0",
    "slideshow": {
     "slide_type": "-"
    }
   },
   "outputs": [],
   "source": [
    "import os, json, csv\n",
    "\n",
    "## Begin cargo cult code block here\n",
    "## These were copied verbatim from the slides or Sweigart\n",
    "def read_csv(path):\n",
    "    \n",
    "    ## Derived form Sweigart code, also previously provided in\n",
    "    ## older projects\n",
    "\n",
    "    csvf = open(path)\n",
    "    parse = csv.reader(csvf)\n",
    "    data = list(parse)\n",
    "    return data\n",
    "def read_json(path):\n",
    "    with open(path, encoding=\"utf-8\") as f:\n",
    "        return json.load(f)\n",
    "def write_json(path,data):\n",
    "    with open(path, 'w', encoding=\"utf-8\") as f:\n",
    "        json.dump(data, f, indent=2)"
   ]
  },
  {
   "cell_type": "code",
   "execution_count": 4,
   "metadata": {
    "autoscroll": false,
    "collapsed": false,
    "ein.hycell": false,
    "ein.tags": "worksheet-0",
    "slideshow": {
     "slide_type": "-"
    }
   },
   "outputs": [
    {
     "data": {
      "text/plain": [
       "['sample_reviews.json',\n 'sample_reviews.csv',\n 'review5.json',\n 'review5.csv',\n 'review4.json',\n 'review4.csv',\n 'review3.json',\n 'review3.csv',\n 'review2.json',\n 'review2.csv',\n 'review1.json',\n 'review1.csv',\n 'products.json']"
      ]
     },
     "execution_count": 4,
     "metadata": {},
     "output_type": "execute_result"
    }
   ],
   "source": [
    "#q1\n",
    "fname = sorted(os.listdir(\"data\"),reverse=True)\n",
    "fname"
   ]
  },
  {
   "cell_type": "code",
   "execution_count": 5,
   "metadata": {
    "autoscroll": false,
    "collapsed": false,
    "ein.hycell": false,
    "ein.tags": "worksheet-0",
    "slideshow": {
     "slide_type": "-"
    }
   },
   "outputs": [
    {
     "data": {
      "text/plain": [
       "['data/sample_reviews.json',\n 'data/sample_reviews.csv',\n 'data/review5.json',\n 'data/review5.csv',\n 'data/review4.json',\n 'data/review4.csv',\n 'data/review3.json',\n 'data/review3.csv',\n 'data/review2.json',\n 'data/review2.csv',\n 'data/review1.json',\n 'data/review1.csv',\n 'data/products.json']"
      ]
     },
     "execution_count": 5,
     "metadata": {},
     "output_type": "execute_result"
    }
   ],
   "source": [
    "#q2\n",
    "paths = []\n",
    "for name in fname:\n",
    "    paths.append(os.path.join(\"data\",name))\n",
    "paths"
   ]
  },
  {
   "cell_type": "code",
   "execution_count": 6,
   "metadata": {
    "autoscroll": false,
    "collapsed": false,
    "ein.hycell": false,
    "ein.tags": "worksheet-0",
    "slideshow": {
     "slide_type": "-"
    }
   },
   "outputs": [
    {
     "data": {
      "text/plain": [
       "['data/sample_reviews.json',\n 'data/review5.json',\n 'data/review4.json',\n 'data/review3.json',\n 'data/review2.json',\n 'data/review1.json',\n 'data/products.json']"
      ]
     },
     "execution_count": 6,
     "metadata": {},
     "output_type": "execute_result"
    }
   ],
   "source": [
    "#q3\n",
    "jsonf = []\n",
    "for filename in paths:\n",
    "    if filename.split(\".\")[1] ==\"json\":\n",
    "        jsonf.append(filename)\n",
    "jsonf"
   ]
  },
  {
   "cell_type": "code",
   "execution_count": 7,
   "metadata": {
    "autoscroll": false,
    "collapsed": false,
    "ein.hycell": false,
    "ein.tags": "worksheet-0",
    "slideshow": {
     "slide_type": "-"
    }
   },
   "outputs": [
    {
     "data": {
      "text/plain": [
       "['data/review5.json',\n 'data/review5.csv',\n 'data/review4.json',\n 'data/review4.csv',\n 'data/review3.json',\n 'data/review3.csv',\n 'data/review2.json',\n 'data/review2.csv',\n 'data/review1.json',\n 'data/review1.csv']"
      ]
     },
     "execution_count": 7,
     "metadata": {},
     "output_type": "execute_result"
    }
   ],
   "source": [
    "#q4\n",
    "reviewf = []\n",
    "spattern = os.path.join(\"data\",\"review\")\n",
    "for filename in paths:\n",
    "    if spattern in filename:\n",
    "        reviewf.append(filename)\n",
    "reviewf"
   ]
  },
  {
   "cell_type": "code",
   "execution_count": 8,
   "metadata": {
    "autoscroll": false,
    "collapsed": false,
    "ein.hycell": false,
    "ein.tags": "worksheet-0",
    "slideshow": {
     "slide_type": "-"
    }
   },
   "outputs": [
    {
     "data": {
      "text/plain": [
       "{'B00QFQRELG': 'Amazon 9W PowerFast Official OEM USB Charger and Power Adapter for Fire Tablets and Kindle eReaders',\n 'B01BH83OOM': 'Amazon Tap Smart Assistant Alexa enabled (black) Brand New',\n 'B00ZV9PXP2': 'All-New Kindle E-reader - Black, 6\" Glare-Free Touchscreen Display, Wi-Fi - Includes Special Offers',\n 'B0751RGYJV': 'Amazon Echo (2nd Generation) Smart Assistant Oak Finish Priority Shipping',\n 'B00IOY8XWQ': 'Kindle Voyage E-reader, 6 High-Resolution Display (300 ppi) with Adaptive Built-in Light, PagePress Sensors, Wi-Fi - Includes Special Offers',\n 'B0752151W6': 'All-new Echo (2nd Generation) with improved sound, powered by Dolby, and a new design Walnut Finish',\n 'B018Y226XO': 'Fire Kids Edition Tablet, 7 Display, Wi-Fi, 16 GB, Pink Kid-Proof Case',\n 'B01ACEKAJY': 'All-New Fire HD 8 Tablet, 8 HD Display, Wi-Fi, 32 GB - Includes Special Offers, Black',\n 'B01AHB9CYG': 'All-New Fire HD 8 Tablet, 8 HD Display, Wi-Fi, 32 GB - Includes Special Offers, Magenta',\n 'B01AHB9CN2': 'All-New Fire HD 8 Tablet, 8 HD Display, Wi-Fi, 16 GB - Includes Special Offers, Magenta',\n 'B00VINDBJK': 'Kindle Oasis E-reader with Leather Charging Cover - Merlot, 6 High-Resolution Display (300 ppi), Wi-Fi - Includes Special Offers',\n 'B01AHB9C1E': 'Fire HD 8 Tablet with Alexa, 8 HD Display, 32 GB, Tangerine - with Special Offers',\n 'B018Y229OU': 'Fire Tablet, 7 Display, Wi-Fi, 8 GB - Includes Special Offers, Magenta'}"
      ]
     },
     "execution_count": 8,
     "metadata": {},
     "output_type": "execute_result"
    }
   ],
   "source": [
    "#q5\n",
    "q5path = jsonf[-1] # system dependent\n",
    "productdict = read_json(q5path)\n",
    "productdict"
   ]
  },
  {
   "cell_type": "code",
   "execution_count": 60,
   "metadata": {
    "autoscroll": false,
    "collapsed": false,
    "ein.hycell": false,
    "ein.tags": "worksheet-0",
    "slideshow": {
     "slide_type": "-"
    }
   },
   "outputs": [
    {
     "data": {
      "text/plain": [
       "'I would recommend this product. It works great and ver compact.'"
      ]
     },
     "execution_count": 60,
     "metadata": {},
     "output_type": "execute_result"
    }
   ],
   "source": [
    "#q6\n",
    "reviews = []\n",
    "reviewsd = {}\n",
    "reviewcsvf = []\n",
    "for filename in reviewf:\n",
    "    if \"csv\" in filename:\n",
    "        reviewcsvf.append(filename)\n",
    "\n",
    "rev5 = read_csv(reviewcsvf[0])[1:]\n",
    "rev4 = read_csv(reviewcsvf[1])[1:]\n",
    "rev3 = read_csv(reviewcsvf[2])[1:]\n",
    "rev2 = read_csv(reviewcsvf[3])[1:]\n",
    "rev1 = read_csv(reviewcsvf[4])[1:]\n",
    "reviews = rev1+rev2+rev3+rev4+rev5\n",
    "\n",
    "for entry in reviews:\n",
    "    reviewsd[entry[0]] = entry[1:]\n",
    "reviewsd[\"84440\"][1]"
   ]
  },
  {
   "cell_type": "code",
   "execution_count": 75,
   "metadata": {
    "autoscroll": false,
    "collapsed": false,
    "ein.hycell": false,
    "ein.tags": "worksheet-0",
    "slideshow": {
     "slide_type": "-"
    }
   },
   "outputs": [
    {
     "data": {
      "text/plain": [
       "'Loveeeeeeeee........................................'"
      ]
     },
     "execution_count": 75,
     "metadata": {},
     "output_type": "execute_result"
    }
   ],
   "source": [
    "#q7\n",
    "reviewsd[\"28615\"][1]"
   ]
  },
  {
   "cell_type": "code",
   "execution_count": 76,
   "metadata": {
    "autoscroll": false,
    "collapsed": false,
    "ein.hycell": false,
    "ein.tags": "worksheet-0",
    "slideshow": {
     "slide_type": "-"
    }
   },
   "outputs": [
    {
     "data": {
      "text/plain": [
       "'review2.csv'"
      ]
     },
     "execution_count": 76,
     "metadata": {},
     "output_type": "execute_result"
    }
   ],
   "source": [
    "#q8\n",
    "\n",
    "## there are exactly 1000 data points in each file.\n",
    "## The list Reviews was generated sequentially, ergo the index\n",
    "## value can tell us which file the thing came from.\n",
    "\n",
    "query = [\"69273\"]\n",
    "query +=reviewsd[\"69273\"]\n",
    "q7loc = reviews.index(query)\n",
    "\n",
    "q7filename = \"review\" + str(int(q7loc/1000 + 1)) + \".csv\"\n",
    "q7filename"
   ]
  },
  {
   "cell_type": "code",
   "execution_count": 79,
   "metadata": {
    "autoscroll": false,
    "collapsed": false,
    "ein.hycell": false,
    "ein.tags": "worksheet-0",
    "slideshow": {
     "slide_type": "-"
    }
   },
   "outputs": [
    {
     "data": {
      "text/plain": [
       "{'46663': ['Dmh1589', 'B018Y229OU'],\n '36363': ['Shoot2thril', 'B018Y229OU'],\n '15763': ['Barbara', 'B018Y229OU'],\n '5463': ['Elec8', 'B018Y229OU'],\n '54066': ['Silvrblur', 'B018Y229OU'],\n '33466': ['Trish', 'B018Y229OU'],\n '40869': ['airbear', 'B018Y229OU'],\n '30569': ['lorphe', 'B018Y229OU'],\n '89472': ['felix', 'B018Y229OU'],\n '48272': ['Bull99', 'B018Y229OU']}"
      ]
     },
     "execution_count": 79,
     "metadata": {},
     "output_type": "execute_result"
    }
   ],
   "source": [
    "#q9\n",
    "samplereviews = read_json(jsonf[0])\n",
    "samplereviews"
   ]
  },
  {
   "cell_type": "code",
   "execution_count": 115,
   "metadata": {
    "autoscroll": false,
    "collapsed": false,
    "ein.hycell": false,
    "ein.tags": "worksheet-0",
    "slideshow": {
     "slide_type": "-"
    }
   },
   "outputs": [
    {
     "ename": "NameError",
     "evalue": "name 'cdata' is not defined",
     "output_type": "error",
     "traceback": [
      "\u001b[0;31m\u001b[0m",
      "\u001b[0;31mNameError\u001b[0mTraceback (most recent call last)",
      "\u001b[0;32m<ipython-input-115-77b59a9bbfdb>\u001b[0m in \u001b[0;36m<module>\u001b[0;34m()\u001b[0m\n\u001b[1;32m     29\u001b[0m     \u001b[0;32mreturn\u001b[0m \u001b[0mfin\u001b[0m\u001b[0;34m\u001b[0m\u001b[0;34m\u001b[0m\u001b[0m\n\u001b[1;32m     30\u001b[0m \u001b[0;34m\u001b[0m\u001b[0m\n\u001b[0;32m---> 31\u001b[0;31m \u001b[0mget_reviews\u001b[0m\u001b[0;34m(\u001b[0m\u001b[0;34m'data/sample_reviews.csv'\u001b[0m\u001b[0;34m,\u001b[0m \u001b[0;34m'data/sample_reviews.json'\u001b[0m\u001b[0;34m)\u001b[0m\u001b[0;34m\u001b[0m\u001b[0;34m\u001b[0m\u001b[0m\n\u001b[0m",
      "\u001b[0;32m<ipython-input-115-77b59a9bbfdb>\u001b[0m in \u001b[0;36mget_reviews\u001b[0;34m(csv, json)\u001b[0m\n\u001b[1;32m     14\u001b[0m     \u001b[0mfin\u001b[0m \u001b[0;34m=\u001b[0m \u001b[0;34m[\u001b[0m\u001b[0;34m]\u001b[0m \u001b[0;31m# here be the final output\u001b[0m\u001b[0;34m\u001b[0m\u001b[0;34m\u001b[0m\u001b[0m\n\u001b[1;32m     15\u001b[0m \u001b[0;34m\u001b[0m\u001b[0m\n\u001b[0;32m---> 16\u001b[0;31m     \u001b[0;32mfor\u001b[0m \u001b[0mrow\u001b[0m \u001b[0;32min\u001b[0m \u001b[0mcdata\u001b[0m\u001b[0;34m:\u001b[0m\u001b[0;34m\u001b[0m\u001b[0;34m\u001b[0m\u001b[0m\n\u001b[0m\u001b[1;32m     17\u001b[0m         opRev = Review(\n\u001b[1;32m     18\u001b[0m             \u001b[0mId\u001b[0m \u001b[0;34m=\u001b[0m \u001b[0mint\u001b[0m\u001b[0;34m(\u001b[0m\u001b[0mrow\u001b[0m\u001b[0;34m[\u001b[0m\u001b[0;36m0\u001b[0m\u001b[0;34m]\u001b[0m\u001b[0;34m)\u001b[0m\u001b[0;34m,\u001b[0m\u001b[0;34m\u001b[0m\u001b[0;34m\u001b[0m\u001b[0m\n",
      "\u001b[0;31mNameError\u001b[0m: name 'cdata' is not defined"
     ]
    }
   ],
   "source": [
    "#q10\n",
    "from collections import namedtuple\n",
    "Review = namedtuple(\"Review\", [\n",
    "    \"Id\", \"uname\", \"asin\", \"title\", \"text\", \"rating\", \"drec\", \"num_helpful\", \"date\"\n",
    "])\n",
    "\n",
    "def get_reviews(csv,json):\n",
    "#    csv = os.path.join(\"data\", csv)\n",
    "#    json = os.path.join(\"data\", json)\n",
    "    \n",
    "    cdata = read_csv(csv)[1:]\n",
    "    jdata = read_json(json)\n",
    "\n",
    "    fin = [] # here be the final output\n",
    "\n",
    "    for row in cdata:\n",
    "        opRev = Review(\n",
    "            Id = int(row[0]),\n",
    "            uname = jdata[row[0]][0],\n",
    "            asin = jdata[row[0]][1],\n",
    "            title = row[1],\n",
    "            text = row[2],\n",
    "            rating = int(row[3]),\n",
    "            drec = bool(row[4]),\n",
    "            num_helpful = int(row[5]),\n",
    "            date = row[6]\n",
    "            )\n",
    "        fin.append(opRev)\n",
    "    return fin\n",
    "\n",
    "get_reviews('data/sample_reviews.csv', 'data/sample_reviews.json')"
   ]
  },
  {
   "cell_type": "code",
   "execution_count": 104,
   "metadata": {
    "autoscroll": false,
    "collapsed": false,
    "ein.hycell": false,
    "ein.tags": "worksheet-0",
    "slideshow": {
     "slide_type": "-"
    }
   },
   "outputs": [],
   "source": []
  },
  {
   "cell_type": "code",
   "execution_count": 104,
   "metadata": {
    "autoscroll": false,
    "collapsed": false,
    "ein.hycell": false,
    "ein.tags": "worksheet-0",
    "slideshow": {
     "slide_type": "-"
    }
   },
   "outputs": [],
   "source": []
  },
  {
   "cell_type": "code",
   "execution_count": 85,
   "metadata": {
    "autoscroll": false,
    "collapsed": false,
    "ein.hycell": false,
    "ein.tags": "worksheet-0",
    "slideshow": {
     "slide_type": "-"
    }
   },
   "outputs": [
    {
     "data": {
      "text/plain": [
       "'foo'"
      ]
     },
     "execution_count": 85,
     "metadata": {},
     "output_type": "execute_result"
    }
   ],
   "source": []
  },
  {
   "cell_type": "code",
   "execution_count": null,
   "metadata": {
    "autoscroll": false,
    "collapsed": false,
    "ein.hycell": false,
    "ein.tags": "worksheet-0",
    "slideshow": {
     "slide_type": "-"
    }
   },
   "outputs": [],
   "source": []
  }
 ],
 "metadata": {
  "kernelspec": {
   "argv": [
    "/usr/bin/python3",
    "-m",
    "ipykernel_launcher",
    "-f",
    "{connection_file}"
   ],
   "display_name": "Python 3",
   "env": null,
   "interrupt_mode": "signal",
   "language": "python",
   "metadata": null,
   "name": "python3"
  },
  "name": "main.ipynb"
 },
 "nbformat": 4,
 "nbformat_minor": 2
}
