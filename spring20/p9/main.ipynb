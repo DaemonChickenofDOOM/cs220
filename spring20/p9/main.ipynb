{
 "cells": [
  {
   "cell_type": "code",
   "execution_count": 3,
   "metadata": {
    "autoscroll": false,
    "collapsed": false,
    "ein.hycell": false,
    "ein.tags": "worksheet-0",
    "slideshow": {
     "slide_type": "-"
    }
   },
   "outputs": [],
   "source": [
    "import os, json, csv\n",
    "\n",
    "## Begin cargo cult code block here\n",
    "## These were copied verbatim from the slides or Sweigart\n",
    "def read_csv(path):\n",
    "    \n",
    "    ## Derived form Sweigart code, also previously provided in\n",
    "    ## older projects\n",
    "\n",
    "    csvf = open(path)\n",
    "    parse = csv.reader(csvf)\n",
    "    data = list(parse)\n",
    "    return data\n",
    "def read_json(path):\n",
    "    with open(path, encoding=\"utf-8\") as f:\n",
    "        return json.load(f)\n",
    "def write_json(path,data):\n",
    "    with open(path, 'w', encoding=\"utf-8\") as f:\n",
    "        json.dump(data, f, indent=2)"
   ]
  },
  {
   "cell_type": "code",
   "execution_count": 4,
   "metadata": {
    "autoscroll": false,
    "collapsed": false,
    "ein.hycell": false,
    "ein.tags": "worksheet-0",
    "slideshow": {
     "slide_type": "-"
    }
   },
   "outputs": [
    {
     "data": {
      "text/plain": [
       "['sample_reviews.json',\n 'sample_reviews.csv',\n 'review5.json',\n 'review5.csv',\n 'review4.json',\n 'review4.csv',\n 'review3.json',\n 'review3.csv',\n 'review2.json',\n 'review2.csv',\n 'review1.json',\n 'review1.csv',\n 'products.json']"
      ]
     },
     "execution_count": 4,
     "metadata": {},
     "output_type": "execute_result"
    }
   ],
   "source": [
    "#q1\n",
    "fname = sorted(os.listdir(\"data\"),reverse=True)\n",
    "fname"
   ]
  },
  {
   "cell_type": "code",
   "execution_count": 5,
   "metadata": {
    "autoscroll": false,
    "collapsed": false,
    "ein.hycell": false,
    "ein.tags": "worksheet-0",
    "slideshow": {
     "slide_type": "-"
    }
   },
   "outputs": [
    {
     "data": {
      "text/plain": [
       "['data/sample_reviews.json',\n 'data/sample_reviews.csv',\n 'data/review5.json',\n 'data/review5.csv',\n 'data/review4.json',\n 'data/review4.csv',\n 'data/review3.json',\n 'data/review3.csv',\n 'data/review2.json',\n 'data/review2.csv',\n 'data/review1.json',\n 'data/review1.csv',\n 'data/products.json']"
      ]
     },
     "execution_count": 5,
     "metadata": {},
     "output_type": "execute_result"
    }
   ],
   "source": [
    "#q2\n",
    "paths = []\n",
    "for name in fname:\n",
    "    paths.append(os.path.join(\"data\",name))\n",
    "paths"
   ]
  },
  {
   "cell_type": "code",
   "execution_count": 6,
   "metadata": {
    "autoscroll": false,
    "collapsed": false,
    "ein.hycell": false,
    "ein.tags": "worksheet-0",
    "slideshow": {
     "slide_type": "-"
    }
   },
   "outputs": [
    {
     "data": {
      "text/plain": [
       "['data/sample_reviews.json',\n 'data/review5.json',\n 'data/review4.json',\n 'data/review3.json',\n 'data/review2.json',\n 'data/review1.json',\n 'data/products.json']"
      ]
     },
     "execution_count": 6,
     "metadata": {},
     "output_type": "execute_result"
    }
   ],
   "source": [
    "#q3\n",
    "jsonf = []\n",
    "for filename in paths:\n",
    "    if filename.split(\".\")[1] ==\"json\":\n",
    "        jsonf.append(filename)\n",
    "jsonf"
   ]
  },
  {
   "cell_type": "code",
   "execution_count": 7,
   "metadata": {
    "autoscroll": false,
    "collapsed": false,
    "ein.hycell": false,
    "ein.tags": "worksheet-0",
    "slideshow": {
     "slide_type": "-"
    }
   },
   "outputs": [
    {
     "data": {
      "text/plain": [
       "['data/review5.json',\n 'data/review5.csv',\n 'data/review4.json',\n 'data/review4.csv',\n 'data/review3.json',\n 'data/review3.csv',\n 'data/review2.json',\n 'data/review2.csv',\n 'data/review1.json',\n 'data/review1.csv']"
      ]
     },
     "execution_count": 7,
     "metadata": {},
     "output_type": "execute_result"
    }
   ],
   "source": [
    "#q4\n",
    "reviewf = []\n",
    "spattern = os.path.join(\"data\",\"review\")\n",
    "for filename in paths:\n",
    "    if spattern in filename:\n",
    "        reviewf.append(filename)\n",
    "reviewf"
   ]
  },
  {
   "cell_type": "code",
   "execution_count": 8,
   "metadata": {
    "autoscroll": false,
    "collapsed": false,
    "ein.hycell": false,
    "ein.tags": "worksheet-0",
    "slideshow": {
     "slide_type": "-"
    }
   },
   "outputs": [
    {
     "data": {
      "text/plain": [
       "{'B00QFQRELG': 'Amazon 9W PowerFast Official OEM USB Charger and Power Adapter for Fire Tablets and Kindle eReaders',\n 'B01BH83OOM': 'Amazon Tap Smart Assistant Alexa enabled (black) Brand New',\n 'B00ZV9PXP2': 'All-New Kindle E-reader - Black, 6\" Glare-Free Touchscreen Display, Wi-Fi - Includes Special Offers',\n 'B0751RGYJV': 'Amazon Echo (2nd Generation) Smart Assistant Oak Finish Priority Shipping',\n 'B00IOY8XWQ': 'Kindle Voyage E-reader, 6 High-Resolution Display (300 ppi) with Adaptive Built-in Light, PagePress Sensors, Wi-Fi - Includes Special Offers',\n 'B0752151W6': 'All-new Echo (2nd Generation) with improved sound, powered by Dolby, and a new design Walnut Finish',\n 'B018Y226XO': 'Fire Kids Edition Tablet, 7 Display, Wi-Fi, 16 GB, Pink Kid-Proof Case',\n 'B01ACEKAJY': 'All-New Fire HD 8 Tablet, 8 HD Display, Wi-Fi, 32 GB - Includes Special Offers, Black',\n 'B01AHB9CYG': 'All-New Fire HD 8 Tablet, 8 HD Display, Wi-Fi, 32 GB - Includes Special Offers, Magenta',\n 'B01AHB9CN2': 'All-New Fire HD 8 Tablet, 8 HD Display, Wi-Fi, 16 GB - Includes Special Offers, Magenta',\n 'B00VINDBJK': 'Kindle Oasis E-reader with Leather Charging Cover - Merlot, 6 High-Resolution Display (300 ppi), Wi-Fi - Includes Special Offers',\n 'B01AHB9C1E': 'Fire HD 8 Tablet with Alexa, 8 HD Display, 32 GB, Tangerine - with Special Offers',\n 'B018Y229OU': 'Fire Tablet, 7 Display, Wi-Fi, 8 GB - Includes Special Offers, Magenta'}"
      ]
     },
     "execution_count": 8,
     "metadata": {},
     "output_type": "execute_result"
    }
   ],
   "source": [
    "#q5\n",
    "q5path = jsonf[-1] # system dependent\n",
    "productdict = read_json(q5path)\n",
    "productdict"
   ]
  },
  {
   "cell_type": "code",
   "execution_count": 60,
   "metadata": {
    "autoscroll": false,
    "collapsed": false,
    "ein.hycell": false,
    "ein.tags": "worksheet-0",
    "slideshow": {
     "slide_type": "-"
    }
   },
   "outputs": [
    {
     "data": {
      "text/plain": [
       "'I would recommend this product. It works great and ver compact.'"
      ]
     },
     "execution_count": 60,
     "metadata": {},
     "output_type": "execute_result"
    }
   ],
   "source": [
    "#q6\n",
    "reviews = []\n",
    "reviewsd = {}\n",
    "reviewcsvf = []\n",
    "for filename in reviewf:\n",
    "    if \"csv\" in filename:\n",
    "        reviewcsvf.append(filename)\n",
    "\n",
    "rev5 = read_csv(reviewcsvf[0])[1:]\n",
    "rev4 = read_csv(reviewcsvf[1])[1:]\n",
    "rev3 = read_csv(reviewcsvf[2])[1:]\n",
    "rev2 = read_csv(reviewcsvf[3])[1:]\n",
    "rev1 = read_csv(reviewcsvf[4])[1:]\n",
    "reviews = rev1+rev2+rev3+rev4+rev5\n",
    "\n",
    "for entry in reviews:\n",
    "    reviewsd[entry[0]] = entry[1:]\n",
    "reviewsd[\"84440\"][1]"
   ]
  },
  {
   "cell_type": "code",
   "execution_count": 75,
   "metadata": {
    "autoscroll": false,
    "collapsed": false,
    "ein.hycell": false,
    "ein.tags": "worksheet-0",
    "slideshow": {
     "slide_type": "-"
    }
   },
   "outputs": [
    {
     "data": {
      "text/plain": [
       "'Loveeeeeeeee........................................'"
      ]
     },
     "execution_count": 75,
     "metadata": {},
     "output_type": "execute_result"
    }
   ],
   "source": [
    "#q7\n",
    "reviewsd[\"28615\"][1]"
   ]
  },
  {
   "cell_type": "code",
   "execution_count": 76,
   "metadata": {
    "autoscroll": false,
    "collapsed": false,
    "ein.hycell": false,
    "ein.tags": "worksheet-0",
    "slideshow": {
     "slide_type": "-"
    }
   },
   "outputs": [
    {
     "data": {
      "text/plain": [
       "'review2.csv'"
      ]
     },
     "execution_count": 76,
     "metadata": {},
     "output_type": "execute_result"
    }
   ],
   "source": [
    "#q8\n",
    "\n",
    "## there are exactly 1000 data points in each file.\n",
    "## The list Reviews was generated sequentially, ergo the index\n",
    "## value can tell us which file the thing came from.\n",
    "\n",
    "query = [\"69273\"]\n",
    "query +=reviewsd[\"69273\"]\n",
    "q7loc = reviews.index(query)\n",
    "\n",
    "q7filename = \"review\" + str(int(q7loc/1000 + 1)) + \".csv\"\n",
    "q7filename"
   ]
  },
  {
   "cell_type": "code",
   "execution_count": 79,
   "metadata": {
    "autoscroll": false,
    "collapsed": false,
    "ein.hycell": false,
    "ein.tags": "worksheet-0",
    "slideshow": {
     "slide_type": "-"
    }
   },
   "outputs": [
    {
     "data": {
      "text/plain": [
       "{'46663': ['Dmh1589', 'B018Y229OU'],\n '36363': ['Shoot2thril', 'B018Y229OU'],\n '15763': ['Barbara', 'B018Y229OU'],\n '5463': ['Elec8', 'B018Y229OU'],\n '54066': ['Silvrblur', 'B018Y229OU'],\n '33466': ['Trish', 'B018Y229OU'],\n '40869': ['airbear', 'B018Y229OU'],\n '30569': ['lorphe', 'B018Y229OU'],\n '89472': ['felix', 'B018Y229OU'],\n '48272': ['Bull99', 'B018Y229OU']}"
      ]
     },
     "execution_count": 79,
     "metadata": {},
     "output_type": "execute_result"
    }
   ],
   "source": [
    "#q9\n",
    "samplereviews = read_json(jsonf[0])\n",
    "samplereviews"
   ]
  },
  {
   "cell_type": "code",
   "execution_count": 158,
   "metadata": {
    "autoscroll": false,
    "collapsed": false,
    "ein.hycell": false,
    "ein.tags": "worksheet-0",
    "slideshow": {
     "slide_type": "-"
    }
   },
   "outputs": [
    {
     "data": {
      "text/plain": [
       "[Review(id=46663, username='Dmh1589', asin='B018Y229OU', title='Nice for kids', text='Easy to use. Memory fills up fast though. Battery life is decent.', rating=4, do_recommend=True, num_helpful=0, date='2016-12-23'),\n Review(id=36363, username='Shoot2thril', asin='B018Y229OU', title='Great tablet', text='Great tablet for the price. I already have 3 followers including the hd.', rating=5, do_recommend=True, num_helpful=0, date='2016-12-23'),\n Review(id=15763, username='Barbara', asin='B018Y229OU', title='Great tablet', text='Excellent tablet. Love the size. Fits perfectly in my purse. I would recommend this tablet.', rating=5, do_recommend=True, num_helpful=0, date='2016-12-23'),\n Review(id=5463, username='Elec8', asin='B018Y229OU', title='Great budget tablet', text='Great tablet for kids. Good for Netflix and YouTube.', rating=5, do_recommend=True, num_helpful=0, date='2016-12-23'),\n Review(id=54066, username='Silvrblur', asin='B018Y229OU', title='Great tablet for the price.', text='I bought this tablet for my 9 year old nephew and he loves it. It is easy to setup and very user friendly. Picked up a case for protection.Buy far the best bang for your buck for an entry level tablet.', rating=5, do_recommend=True, num_helpful=0, date='2016-12-23'),\n Review(id=33466, username='Trish', asin='B018Y229OU', title='Love it', text='My sister in law is in love with this. Best gift ever for her', rating=5, do_recommend=True, num_helpful=0, date='2016-12-23'),\n Review(id=40869, username='airbear', asin='B018Y229OU', title='Love it', text='Love it so much. So easy to use even for my little kids.', rating=5, do_recommend=True, num_helpful=0, date='2016-12-23'),\n Review(id=30569, username='lorphe', asin='B018Y229OU', title='Stand Amazon Tablet', text='Works well for the money. Got it from Black Friday deal. User friendly', rating=4, do_recommend=True, num_helpful=0, date='2016-12-23'),\n Review(id=89472, username='felix', asin='B018Y229OU', title='great ipad', text='i brought this for my kids and no regret. Make sure you buy a case protector along with it.', rating=5, do_recommend=True, num_helpful=0, date='2016-12-23'),\n Review(id=48272, username='Bull99', asin='B018Y229OU', title='Works great', text='This tablet is so compact and fit in my purse. It works very well.', rating=5, do_recommend=True, num_helpful=0, date='2016-12-23')]"
      ]
     },
     "execution_count": 158,
     "metadata": {},
     "output_type": "execute_result"
    }
   ],
   "source": [
    "#q10\n",
    "from collections import namedtuple\n",
    "Review = namedtuple(\"Review\", [\n",
    "    \"id\", \"username\", \"asin\", \"title\", \"text\", \"rating\", \"do_recommend\", \"num_helpful\", \"date\"\n",
    "])\n",
    "\n",
    "def get_reviews(csv,json):\n",
    "    csv = os.path.join(\"data\", csv)\n",
    "    json = os.path.join(\"data\", json)\n",
    "    \n",
    "    cdata = read_csv(csv)[1:]\n",
    "    jdata = read_json(json)\n",
    "\n",
    "    fin = [] # here be the final output\n",
    "\n",
    "    for row in cdata:\n",
    "        try:\n",
    "            opRev = Review(\n",
    "                id = int(row[0]),\n",
    "                username = jdata[row[0]][0],\n",
    "                asin = jdata[row[0]][1],\n",
    "                title = row[1],\n",
    "                text = row[2],\n",
    "                rating = int(row[3]),\n",
    "                do_recommend = (row[4] == \"True\"),\n",
    "                num_helpful = int(row[5]),\n",
    "                date = row[6])\n",
    "            assert opRev.title != ''\n",
    "            assert opRev.text != ''\n",
    "            fin.append(opRev)\n",
    "        except:\n",
    "            continue\n",
    "    return fin\n",
    "\n",
    "get_reviews('sample_reviews.csv', 'sample_reviews.json')"
   ]
  },
  {
   "cell_type": "code",
   "execution_count": 159,
   "metadata": {
    "autoscroll": false,
    "collapsed": false,
    "ein.hycell": false,
    "ein.tags": "worksheet-0",
    "slideshow": {
     "slide_type": "-"
    }
   },
   "outputs": [
    {
     "data": {
      "text/plain": [
       "[Review(id=46663, username='Dmh1589', asin='B018Y229OU', title='Nice for kids', text='Easy to use. Memory fills up fast though. Battery life is decent.', rating=4, do_recommend=True, num_helpful=0, date='2016-12-23'),\n Review(id=36363, username='Shoot2thril', asin='B018Y229OU', title='Great tablet', text='Great tablet for the price. I already have 3 followers including the hd.', rating=5, do_recommend=True, num_helpful=0, date='2016-12-23'),\n Review(id=15763, username='Barbara', asin='B018Y229OU', title='Great tablet', text='Excellent tablet. Love the size. Fits perfectly in my purse. I would recommend this tablet.', rating=5, do_recommend=True, num_helpful=0, date='2016-12-23'),\n Review(id=5463, username='Elec8', asin='B018Y229OU', title='Great budget tablet', text='Great tablet for kids. Good for Netflix and YouTube.', rating=5, do_recommend=True, num_helpful=0, date='2016-12-23'),\n Review(id=54066, username='Silvrblur', asin='B018Y229OU', title='Great tablet for the price.', text='I bought this tablet for my 9 year old nephew and he loves it. It is easy to setup and very user friendly. Picked up a case for protection.Buy far the best bang for your buck for an entry level tablet.', rating=5, do_recommend=True, num_helpful=0, date='2016-12-23'),\n Review(id=33466, username='Trish', asin='B018Y229OU', title='Love it', text='My sister in law is in love with this. Best gift ever for her', rating=5, do_recommend=True, num_helpful=0, date='2016-12-23'),\n Review(id=40869, username='airbear', asin='B018Y229OU', title='Love it', text='Love it so much. So easy to use even for my little kids.', rating=5, do_recommend=True, num_helpful=0, date='2016-12-23'),\n Review(id=30569, username='lorphe', asin='B018Y229OU', title='Stand Amazon Tablet', text='Works well for the money. Got it from Black Friday deal. User friendly', rating=4, do_recommend=True, num_helpful=0, date='2016-12-23'),\n Review(id=89472, username='felix', asin='B018Y229OU', title='great ipad', text='i brought this for my kids and no regret. Make sure you buy a case protector along with it.', rating=5, do_recommend=True, num_helpful=0, date='2016-12-23'),\n Review(id=48272, username='Bull99', asin='B018Y229OU', title='Works great', text='This tablet is so compact and fit in my purse. It works very well.', rating=5, do_recommend=True, num_helpful=0, date='2016-12-23')]"
      ]
     },
     "execution_count": 159,
     "metadata": {},
     "output_type": "execute_result"
    }
   ],
   "source": [
    "#q11\n",
    "r4c = get_reviews('review4.csv', 'review4.json')\n",
    "r4c[:10]"
   ]
  },
  {
   "cell_type": "code",
   "execution_count": 160,
   "metadata": {
    "autoscroll": false,
    "collapsed": false,
    "ein.hycell": false,
    "ein.tags": "worksheet-0",
    "slideshow": {
     "slide_type": "-"
    }
   },
   "outputs": [
    {
     "data": {
      "text/plain": [
       "[Review(id=25136, username='Angrydagg', asin='B018Y229OU', title='Nice features for the price.', text='For the price this tables does everything I need. so far.', rating=4, do_recommend=True, num_helpful=0, date='2015-12-30'),\n Review(id=84039, username='Appman2015', asin='B018Y229OU', title='Great for xmas', text='So far I have bought three of these of tablets and they love it', rating=4, do_recommend=True, num_helpful=1, date='2015-12-30'),\n Review(id=22239, username='SuzieQ', asin='B018Y229OU', title='great for pre teens', text='i am glad i got them for my grand children they r enjoying them', rating=5, do_recommend=True, num_helpful=0, date='2015-12-31'),\n Review(id=70842, username='Gracie', asin='B018Y229OU', title='Great kindle', text='Purchase was good. Very easy to set up and use. Clear screen. Easy to charge. Would like more storage.', rating=5, do_recommend=True, num_helpful=0, date='2015-12-31'),\n Review(id=60542, username='Jeremyjeepster', asin='B018Y229OU', title='Good entry level tablet reader.', text='His is a very economical entry level tablet. Great for kids or for first time users.', rating=4, do_recommend=True, num_helpful=0, date='2015-12-31'),\n Review(id=9042, username='kinglowe78', asin='B018Y229OU', title='Good Deal', text='Real good deal. Nice present for those who want a tablet', rating=4, do_recommend=True, num_helpful=1, date='2016-01-01'),\n Review(id=98845, username='jamal', asin='B018Y229OU', title='good basic', text='Good gift for basic Internet use browsing emails .', rating=3, do_recommend=True, num_helpful=1, date='2016-01-01'),\n Review(id=88545, username='Abc1', asin='B018Y229OU', title='Lots of apps to play with', text='This is a good beginning tablet. Works well and has lots of preloaded apps to start you off.', rating=4, do_recommend=True, num_helpful=2, date='2016-01-01'),\n Review(id=47345, username='4Thrifty', asin='B018Y229OU', title='Great tablet', text='Well priced. Easy to operate. Fast and efficient. Great product.', rating=4, do_recommend=False, num_helpful=0, date='2016-01-02'),\n Review(id=54748, username='Sandycat19', asin='B018Y229OU', title='Good product fair price', text='Good for little ones who are just getting started on apps.', rating=5, do_recommend=True, num_helpful=0, date='2016-01-02')]"
      ]
     },
     "execution_count": 160,
     "metadata": {},
     "output_type": "execute_result"
    }
   ],
   "source": [
    "#q12\n",
    "r2c = get_reviews('review2.csv', 'review2.json')\n",
    "r2c[-10:]"
   ]
  },
  {
   "cell_type": "code",
   "execution_count": 162,
   "metadata": {
    "autoscroll": false,
    "collapsed": false,
    "ein.hycell": false,
    "ein.tags": "worksheet-0",
    "slideshow": {
     "slide_type": "-"
    }
   },
   "outputs": [
    {
     "data": {
      "text/plain": [
       "False"
      ]
     },
     "execution_count": 162,
     "metadata": {},
     "output_type": "execute_result"
    }
   ],
   "source": [
    "#q13\n"
   ]
  },
  {
   "cell_type": "code",
   "execution_count": 155,
   "metadata": {
    "autoscroll": false,
    "collapsed": false,
    "ein.hycell": false,
    "ein.tags": "worksheet-0",
    "slideshow": {
     "slide_type": "-"
    }
   },
   "outputs": [
    {
     "data": {
      "text/plain": [
       "False"
      ]
     },
     "execution_count": 155,
     "metadata": {},
     "output_type": "execute_result"
    }
   ],
   "source": []
  },
  {
   "cell_type": "code",
   "execution_count": null,
   "metadata": {
    "autoscroll": false,
    "collapsed": false,
    "ein.hycell": false,
    "ein.tags": "worksheet-0",
    "slideshow": {
     "slide_type": "-"
    }
   },
   "outputs": [],
   "source": []
  }
 ],
 "metadata": {
  "kernelspec": {
   "argv": [
    "/usr/bin/python3",
    "-m",
    "ipykernel_launcher",
    "-f",
    "{connection_file}"
   ],
   "display_name": "Python 3",
   "env": null,
   "interrupt_mode": "signal",
   "language": "python",
   "metadata": null,
   "name": "python3"
  },
  "name": "main.ipynb"
 },
 "nbformat": 4,
 "nbformat_minor": 2
}
